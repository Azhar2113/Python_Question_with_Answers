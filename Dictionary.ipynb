{
 "cells": [
  {
   "cell_type": "markdown",
   "id": "f96d2154-ed15-4141-996d-e65231a2a129",
   "metadata": {},
   "source": [
    "# Dictionary"
   ]
  },
  {
   "cell_type": "code",
   "execution_count": 2,
   "id": "ffafd23e-fb25-4416-9829-6ef1b2278721",
   "metadata": {},
   "outputs": [],
   "source": [
    "# 1. write a program to create a dict that contains name as keys and ages as values?"
   ]
  },
  {
   "cell_type": "code",
   "execution_count": 3,
   "id": "ac251959-8ffc-4e56-83bb-efe772aa9ee0",
   "metadata": {},
   "outputs": [
    {
     "name": "stdout",
     "output_type": "stream",
     "text": [
      "Name and Ages : {'sagar': 80, 'azhar': 23, 'aftab': 22}\n"
     ]
    }
   ],
   "source": [
    "name={\"sagar\":80,\"azhar\":23,\"aftab\":22}\n",
    "print(\"Name and Ages :\",name)"
   ]
  },
  {
   "cell_type": "code",
   "execution_count": 4,
   "id": "ab3526da-58f9-4f9d-a356-7977a465c923",
   "metadata": {},
   "outputs": [],
   "source": [
    "# 2.Write a program to add a new key-value pair to an existing dictionary?"
   ]
  },
  {
   "cell_type": "code",
   "execution_count": 5,
   "id": "32607b8b-636e-4643-bc38-70cb307caedf",
   "metadata": {},
   "outputs": [
    {
     "name": "stdout",
     "output_type": "stream",
     "text": [
      "{'sagar': 80, 'azhar': 23, 'aftab': 22, 'panda': 82}\n"
     ]
    }
   ],
   "source": [
    "name={\"sagar\":80,\"azhar\":23,\"aftab\":22}\n",
    "name.update({\"panda\":82})\n",
    "print(name)"
   ]
  },
  {
   "cell_type": "code",
   "execution_count": 6,
   "id": "552905cf-abcd-4344-8012-02f7b5d4397e",
   "metadata": {},
   "outputs": [],
   "source": [
    "# 3. Write a program that removes a key-value pair from a dictionary "
   ]
  },
  {
   "cell_type": "code",
   "execution_count": 7,
   "id": "7ee052db-0eab-4e1b-b6c7-c9280058c80e",
   "metadata": {},
   "outputs": [
    {
     "name": "stdout",
     "output_type": "stream",
     "text": [
      "{'sagar': 80, 'azhar': 23}\n"
     ]
    }
   ],
   "source": [
    "name={\"sagar\":80,\"azhar\":23,\"aftab\":22}\n",
    "del name[\"aftab\"]\n",
    "print(name)"
   ]
  },
  {
   "cell_type": "code",
   "execution_count": 8,
   "id": "f1bc27ca-50bc-4c9c-ad07-dd98a08c671f",
   "metadata": {},
   "outputs": [],
   "source": [
    "#4. write a program to find the number of key-value pairs in dict? "
   ]
  },
  {
   "cell_type": "code",
   "execution_count": 9,
   "id": "a2a35ae6-8d40-45bd-9faa-56ecfc8ea88c",
   "metadata": {},
   "outputs": [
    {
     "name": "stdout",
     "output_type": "stream",
     "text": [
      "3\n"
     ]
    }
   ],
   "source": [
    "name={\"sagar\":80,\"azhar\":23,\"aftab\":22}\n",
    "print(len(name))"
   ]
  },
  {
   "cell_type": "code",
   "execution_count": 10,
   "id": "9f82303c-1147-406a-9157-cbd5375e48e6",
   "metadata": {},
   "outputs": [],
   "source": [
    "# 5. Given a dictionary person= {'name':'Alia','Age':25,'city':'New York',} how can you access the value of 'age'?"
   ]
  },
  {
   "cell_type": "code",
   "execution_count": 11,
   "id": "54eb2f01-870b-4076-a672-83686fa9c303",
   "metadata": {},
   "outputs": [
    {
     "name": "stdout",
     "output_type": "stream",
     "text": [
      "25\n"
     ]
    }
   ],
   "source": [
    "person= {'name':'Alia','Age':25,'city':'New York',}\n",
    "print(person['Age'])"
   ]
  },
  {
   "cell_type": "code",
   "execution_count": 12,
   "id": "d38a7726-b84b-4675-ab37-3a5df03654be",
   "metadata": {},
   "outputs": [],
   "source": [
    "# 6. write a program to merge two dictionaries into one ?"
   ]
  },
  {
   "cell_type": "code",
   "execution_count": 13,
   "id": "1433b169-4cad-40d6-afe5-260f5b9d75c3",
   "metadata": {},
   "outputs": [
    {
     "name": "stdout",
     "output_type": "stream",
     "text": [
      "{'sagar': 80, 'azhar': 23, 'aftab': 22, 'name': 'Alia', 'Age': 25, 'city': 'New York'}\n"
     ]
    }
   ],
   "source": [
    "name={\"sagar\":80,\"azhar\":23,\"aftab\":22}\n",
    "person= {'name':'Alia','Age':25,'city':'New York',}\n",
    "name.update(person)\n",
    "print(name)"
   ]
  },
  {
   "cell_type": "code",
   "execution_count": 14,
   "id": "baf85b11-5097-4e0f-b77a-08c7e3d3343d",
   "metadata": {},
   "outputs": [],
   "source": [
    "# 7.Write a program to swap keys and value in a given dictionary.\n"
   ]
  },
  {
   "cell_type": "code",
   "execution_count": 15,
   "id": "cf25efa9-57df-4a08-839c-0c9f5b566056",
   "metadata": {},
   "outputs": [],
   "source": [
    "# 8. Write a program to create a dictionary where the keys are numbers from 1 to 5  and the value are their square using dictionary comprehention"
   ]
  },
  {
   "cell_type": "code",
   "execution_count": 16,
   "id": "01e05fe0-84b0-4b33-bbd2-c102cf4252a6",
   "metadata": {},
   "outputs": [
    {
     "name": "stdout",
     "output_type": "stream",
     "text": [
      "{1: 1, 2: 4, 3: 9, 4: 16}\n"
     ]
    }
   ],
   "source": [
    "squares = {x: x**2 for x in range(1, 5)}\n",
    "\n",
    "print(squares)\n",
    "\n"
   ]
  },
  {
   "cell_type": "code",
   "execution_count": 17,
   "id": "d9973e75-42cd-416f-a209-1b7e65c60f6c",
   "metadata": {},
   "outputs": [],
   "source": [
    "# 9. Write a program that takes two list, one of keys and one of values, and and create dictionary from them "
   ]
  },
  {
   "cell_type": "code",
   "execution_count": 18,
   "id": "16b45f85-743c-413c-bb72-aed9129ebaca",
   "metadata": {},
   "outputs": [
    {
     "ename": "SyntaxError",
     "evalue": "invalid syntax (2965589216.py, line 1)",
     "output_type": "error",
     "traceback": [
      "\u001b[0;36m  Cell \u001b[0;32mIn[18], line 1\u001b[0;36m\u001b[0m\n\u001b[0;31m    name=[\"sagar\":80,\"azhar\":23,\"aftab\":22]\u001b[0m\n\u001b[0m                 ^\u001b[0m\n\u001b[0;31mSyntaxError\u001b[0m\u001b[0;31m:\u001b[0m invalid syntax\n"
     ]
    }
   ],
   "source": [
    "name=[\"sagar\":80,\"azhar\":23,\"aftab\":22]\n",
    "person= ['name':'Alia','Age':25,'city':'New York']\n",
    "name(dict)"
   ]
  },
  {
   "cell_type": "code",
   "execution_count": null,
   "id": "495bd3a7-9836-4aea-9d7d-7da86ccb1020",
   "metadata": {},
   "outputs": [],
   "source": [
    "# 10. Write a program that take list of tuples and create a dictionary from them ?\n",
    " # ---> l= [(\"even\",2),(\"odd\",3),(\"negative\",-1),(\"positive\",+1)]"
   ]
  },
  {
   "cell_type": "code",
   "execution_count": null,
   "id": "35e9a64a-6788-4123-b264-07d25e89ba7b",
   "metadata": {},
   "outputs": [],
   "source": [
    "l= [(\"even\",2),(\"odd\",3),(\"negative\",-1),(\"positive\",+1)]\n",
    "dict(l)"
   ]
  },
  {
   "cell_type": "code",
   "execution_count": null,
   "id": "5ab50185-d5d0-4afc-b1ac-7230038fedd1",
   "metadata": {},
   "outputs": [],
   "source": [
    "# 11.write a program, that sorts a dictionary{'a':3,'b':1,'c':2} by its value ?"
   ]
  },
  {
   "cell_type": "code",
   "execution_count": null,
   "id": "92397104-fc9f-4601-bb4b-34d73f945621",
   "metadata": {},
   "outputs": [],
   "source": [
    "# 12. In the given list of tuple.convert it to dict and change value of city to mumbai?\n",
    "# l= [('name','Azhar'),('education','BCA'),('University','OU'),('city','Hyderabad')]"
   ]
  },
  {
   "cell_type": "code",
   "execution_count": null,
   "id": "59cf96c2-1b8f-4b91-819c-d278d2dd01b0",
   "metadata": {},
   "outputs": [],
   "source": [
    "l= [('name','Azhar'),('education','BCA'),('University','OU'),('city','Hyderabad')]\n",
    "info= dict(l)\n",
    "info['city']='Mumbai'\n",
    "print(info)"
   ]
  },
  {
   "cell_type": "code",
   "execution_count": null,
   "id": "bda2bc13-ad8b-4789-a7d3-c789366d96aa",
   "metadata": {},
   "outputs": [],
   "source": [
    "# 13. From the given dictionary {'a':2,'b':4,'c',:6,'d':8} extract second value?"
   ]
  },
  {
   "cell_type": "code",
   "execution_count": null,
   "id": "3c875915-cbd3-4f5c-82d9-c7324926f355",
   "metadata": {},
   "outputs": [],
   "source": [
    " d={'a':2,'b':4,'c':6,'d':8}\n",
    "print(d['b'])"
   ]
  },
  {
   "cell_type": "code",
   "execution_count": null,
   "id": "6ce0aaf8-3870-47fa-8e61-502a2706067c",
   "metadata": {},
   "outputs": [],
   "source": [
    "# 14. write a program that retrieves all keys and value from  a given dict?"
   ]
  },
  {
   "cell_type": "code",
   "execution_count": null,
   "id": "ad251de4-28fd-4fba-88ad-d084a21a338e",
   "metadata": {},
   "outputs": [],
   "source": [
    "person = {'name': 'Alia', 'age': 25, 'city': 'Mumbai'}\n",
    "\n",
    "# Print all keys and values\n",
    "for key, value in person.items():\n",
    "    print(key, \":\", value)\n"
   ]
  },
  {
   "cell_type": "code",
   "execution_count": null,
   "id": "d148db9c-f285-4489-97d2-09523a9d5d09",
   "metadata": {},
   "outputs": [],
   "source": [
    "# 15. write a python program that removes a specified key from a dictionary and prints the updated dictionary.\n",
    "# --> remove c"
   ]
  },
  {
   "cell_type": "code",
   "execution_count": null,
   "id": "8dcafd4c-1751-41c0-82ff-77237ee740ef",
   "metadata": {},
   "outputs": [],
   "source": [
    "data = {'a': 1, 'b': 2, 'c': 3, 'd': 4}\n",
    "\n",
    "data.pop('c')  # removes 'c'\n",
    "\n",
    "print(data)"
   ]
  },
  {
   "cell_type": "code",
   "execution_count": null,
   "id": "93bb576f-f26e-4c46-b853-afbecd9b7256",
   "metadata": {},
   "outputs": [],
   "source": [
    "# 16. write a python that take creates a copy of a given dictionary using the copy() method and modifies the copy without\n",
    "# affecting the original dictionary.\n",
    "# --> original-dict={'name':'azhar','age':23,'food':'mutton'}"
   ]
  },
  {
   "cell_type": "code",
   "execution_count": 21,
   "id": "6f63d099-77df-42e2-9f3c-bbc52a001db3",
   "metadata": {},
   "outputs": [
    {
     "name": "stdout",
     "output_type": "stream",
     "text": [
      "Original dictionary: {'name': 'azhar', 'age': 23, 'food': 'mutton'}\n",
      "Copied dictionary: {'name': 'azhar', 'age': 23, 'food': 'biryani'}\n"
     ]
    }
   ],
   "source": [
    "original_dict = {'name': 'azhar', 'age': 23, 'food': 'mutton'}\n",
    "\n",
    "# Create a copy using copy() method\n",
    "copied_dict = original_dict.copy()\n",
    "\n",
    "# Modify the copied dictionary\n",
    "copied_dict['food'] = 'biryani'\n",
    "\n",
    "# Print both dictionaries\n",
    "print(\"Original dictionary:\", original_dict)\n",
    "print(\"Copied dictionary:\", copied_dict)\n"
   ]
  },
  {
   "cell_type": "code",
   "execution_count": 23,
   "id": "5c9d01cf-307f-49fe-8464-2d5d2e503820",
   "metadata": {},
   "outputs": [],
   "source": [
    "# 17. Write a program that sorts a dictionary by its keys and prints the sorted dictonary?\n",
    "# my_dict= {'b':3,'a':1,'c':2}"
   ]
  },
  {
   "cell_type": "code",
   "execution_count": 31,
   "id": "c0acf60e-3cdf-44f1-83b6-a38d4fcbe5bd",
   "metadata": {},
   "outputs": [
    {
     "name": "stdout",
     "output_type": "stream",
     "text": [
      "{'a': 1, 'b': 3, 'c': 2}\n"
     ]
    }
   ],
   "source": [
    "my_dict= {'b':3,'a':1,'c':2}\n",
    "print(dict(sorted(my_dict.items())))"
   ]
  },
  {
   "cell_type": "code",
   "execution_count": 33,
   "id": "137fa22f-86d6-4d6a-87fe-72577ba64077",
   "metadata": {},
   "outputs": [],
   "source": [
    "# 18.Write a python program that finds the maximum value in a dictionary aand returns the corresponding keys?\n",
    "# my_dict= {'a':5,'b':2,'c':8}"
   ]
  },
  {
   "cell_type": "code",
   "execution_count": null,
   "id": "2e294b71-11ef-4ba1-9f2a-ab0023f483d2",
   "metadata": {},
   "outputs": [],
   "source": [
    "# 20. write a program that returns the number of key-value pairs in a given dictionary\n",
    "# my_dict={'name':'azhar','age':23,'city':'wonderland'}"
   ]
  },
  {
   "cell_type": "code",
   "execution_count": 35,
   "id": "a8a65207-f866-41bf-89e2-656c6aca9687",
   "metadata": {},
   "outputs": [
    {
     "name": "stdout",
     "output_type": "stream",
     "text": [
      "Number of key-value pairs: 3\n"
     ]
    }
   ],
   "source": [
    "my_dict={'name':'azhar','age':23,'city':'wonderland'}\n",
    "\n",
    "num_pairs = len(my_dict)\n",
    "\n",
    "print(\"Number of key-value pairs:\", num_pairs)"
   ]
  },
  {
   "cell_type": "code",
   "execution_count": null,
   "id": "e2fb4955-76fe-4f4c-a8c3-3b53910952b4",
   "metadata": {},
   "outputs": [],
   "source": []
  }
 ],
 "metadata": {
  "kernelspec": {
   "display_name": "Python [conda env:base] *",
   "language": "python",
   "name": "conda-base-py"
  },
  "language_info": {
   "codemirror_mode": {
    "name": "ipython",
    "version": 3
   },
   "file_extension": ".py",
   "mimetype": "text/x-python",
   "name": "python",
   "nbconvert_exporter": "python",
   "pygments_lexer": "ipython3",
   "version": "3.12.7"
  }
 },
 "nbformat": 4,
 "nbformat_minor": 5
}
