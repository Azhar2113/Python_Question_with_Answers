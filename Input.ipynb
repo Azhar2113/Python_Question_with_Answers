{
 "cells": [
  {
   "cell_type": "markdown",
   "id": "cfeadd1a-7ab8-46c3-bc5b-a1f1d4ab38c8",
   "metadata": {},
   "source": [
    "# TASKS 1"
   ]
  },
  {
   "cell_type": "code",
   "execution_count": 2,
   "id": "aa1703d7-bc7a-4abb-b326-2a3146be4dcd",
   "metadata": {},
   "outputs": [],
   "source": [
    "# 1. Take two numbers as input and print their sum."
   ]
  },
  {
   "cell_type": "code",
   "execution_count": 3,
   "id": "9db7b055-7087-42ca-a36c-1893e3027312",
   "metadata": {},
   "outputs": [],
   "source": [
    "a = int(input(\"Enter first number:\"))\n",
    "b = int(input(\"Enter second numbers:\"))\n",
    "\n",
    "sum = a + b\n",
    "print (sum)"
   ]
  },
  {
   "cell_type": "code",
   "execution_count": 4,
   "id": "758f074c-1372-4a47-8ccd-a9e4578408b7",
   "metadata": {},
   "outputs": [],
   "source": [
    "# 2. Take a float number from their user and print."
   ]
  },
  {
   "cell_type": "code",
   "execution_count": 5,
   "id": "f507fd27-d751-419e-b85c-7140ca3005cc",
   "metadata": {},
   "outputs": [],
   "source": [
    "a = float(input(\"Enter a float number:\"))\n",
    "print = (\"Your float number is:\",a)"
   ]
  },
  {
   "cell_type": "code",
   "execution_count": 6,
   "id": "71909484-cd16-49b9-b3f1-e3451d439cd4",
   "metadata": {},
   "outputs": [],
   "source": [
    "# 3. Take your age is input and print how many years are left to reach 100."
   ]
  },
  {
   "cell_type": "code",
   "execution_count": 7,
   "id": "2aab072a-0f9b-46c8-bf36-bdd7da6ebcdc",
   "metadata": {},
   "outputs": [
    {
     "name": "stdin",
     "output_type": "stream",
     "text": [
      "Enter your age:  20\n"
     ]
    },
    {
     "name": "stdout",
     "output_type": "stream",
     "text": [
      "You have80 years left to reach 100!\n"
     ]
    }
   ],
   "source": [
    "age = int(input(\"Enter your age: \"))\n",
    "left = 100-age\n",
    "print(f\"You have{left} years left to reach 100!\")"
   ]
  },
  {
   "cell_type": "code",
   "execution_count": 8,
   "id": "ac20d589-e2c5-4ef2-9f7e-36938c68a5ef",
   "metadata": {},
   "outputs": [],
   "source": [
    "# 4. Ask the user for their first and last name and print full name."
   ]
  },
  {
   "cell_type": "code",
   "execution_count": 28,
   "id": "073d0298-fbb3-4924-a3f3-9cd0a942efb2",
   "metadata": {
    "scrolled": true
   },
   "outputs": [
    {
     "name": "stdin",
     "output_type": "stream",
     "text": [
      "Enter your First name:  Azhar\n",
      "Enter your Last name :  Aftab\n"
     ]
    },
    {
     "name": "stdout",
     "output_type": "stream",
     "text": [
      "Your full name is :  Azhar Aftab\n"
     ]
    }
   ],
   "source": [
    "First_name = input(\"Enter your First name: \")\n",
    "Last_name  = input(\"Enter your Last name : \")\n",
    "Full_name  = First_name +\" \"+ Last_name\n",
    "print(f\"Your full name is :  {Full_name}\" )"
   ]
  },
  {
   "cell_type": "code",
   "execution_count": 10,
   "id": "4f24dd12-8fce-492d-8121-9544fb55d038",
   "metadata": {},
   "outputs": [],
   "source": [
    "# 5. Take radius as input (float) and print the area of the circle using Area = pier2. Use pie = 3.14"
   ]
  },
  {
   "cell_type": "code",
   "execution_count": 11,
   "id": "0a075d53-a7f6-47af-b7e6-6fa11fdd7d72",
   "metadata": {},
   "outputs": [],
   "source": [
    "# 6. Take and number and multiply it with 2 and print their product."
   ]
  },
  {
   "cell_type": "code",
   "execution_count": 30,
   "id": "644381bd-5505-4fe2-9b84-5f5c3939a790",
   "metadata": {},
   "outputs": [
    {
     "name": "stdin",
     "output_type": "stream",
     "text": [
      "Enter a number 2\n"
     ]
    },
    {
     "name": "stdout",
     "output_type": "stream",
     "text": [
      "4\n"
     ]
    }
   ],
   "source": [
    "a = int(input(\"Enter a number\"))\n",
    "b = a * 2\n",
    "print(b)"
   ]
  },
  {
   "cell_type": "code",
   "execution_count": 13,
   "id": "b7c4728a-d31e-4b63-9d8d-b82b1f0d3203",
   "metadata": {},
   "outputs": [],
   "source": [
    "# 7. Input a math expression as string and evalute it. Example input: 5+6*2"
   ]
  },
  {
   "cell_type": "code",
   "execution_count": 36,
   "id": "566f886e-c37a-4d13-86fe-9c5913d472de",
   "metadata": {},
   "outputs": [
    {
     "name": "stdin",
     "output_type": "stream",
     "text": [
      "Enter a math expression 5/2+2\n"
     ]
    },
    {
     "name": "stdout",
     "output_type": "stream",
     "text": [
      "Results: 4.5\n"
     ]
    }
   ],
   "source": [
    "expression=input(\"Enter a math expression\")\n",
    "result=eval(expression)\n",
    "print(\"Results:\",result)"
   ]
  },
  {
   "cell_type": "code",
   "execution_count": 38,
   "id": "2b6c5622-f7bd-4a5b-8693-2cfa19f0207d",
   "metadata": {},
   "outputs": [],
   "source": [
    "# 8. Take a string input representing a number,convert it to int, and add 10 to it."
   ]
  },
  {
   "cell_type": "code",
   "execution_count": 52,
   "id": "10f28d8a-4709-477b-a83d-a89c485e1194",
   "metadata": {},
   "outputs": [
    {
     "name": "stdin",
     "output_type": "stream",
     "text": [
      "Enter a number 10\n"
     ]
    },
    {
     "name": "stdout",
     "output_type": "stream",
     "text": [
      "result after adding = 20\n"
     ]
    }
   ],
   "source": [
    "num_str = int(input(\"Enter a number\"))\n",
    "result =(num_str + 10)\n",
    "print(\"result after adding =\",result )"
   ]
  },
  {
   "cell_type": "code",
   "execution_count": 54,
   "id": "1aadf683-680c-48ff-bc1e-00999e6dec31",
   "metadata": {},
   "outputs": [],
   "source": [
    "# Take a float as input,convert it to iteger and point both values."
   ]
  },
  {
   "cell_type": "code",
   "execution_count": 56,
   "id": "40fd981d-cfc2-45cf-96d8-001e4e049136",
   "metadata": {},
   "outputs": [
    {
     "name": "stdin",
     "output_type": "stream",
     "text": [
      "Enter a float value 5.2\n"
     ]
    },
    {
     "name": "stdout",
     "output_type": "stream",
     "text": [
      "5\n"
     ]
    }
   ],
   "source": [
    "num = float(input(\"Enter a float value\"))\n",
    "num_1 = int(num)\n",
    "print(num_1)"
   ]
  },
  {
   "cell_type": "code",
   "execution_count": 58,
   "id": "afb88b2b-e795-4b09-b959-e884ed9c7f27",
   "metadata": {},
   "outputs": [],
   "source": [
    "# Ask the user for thier name and print welcome."
   ]
  },
  {
   "cell_type": "code",
   "execution_count": 60,
   "id": "411134b5-8fdf-40e1-875e-96c710a4b3a4",
   "metadata": {},
   "outputs": [
    {
     "name": "stdin",
     "output_type": "stream",
     "text": [
      "What is your name Sahil\n"
     ]
    },
    {
     "name": "stdout",
     "output_type": "stream",
     "text": [
      "Welcome Sahil\n"
     ]
    }
   ],
   "source": [
    "name= input(\"What is your name\")\n",
    "print(\"Welcome\",name)"
   ]
  },
  {
   "cell_type": "code",
   "execution_count": null,
   "id": "65c0387d-0037-4e9d-be41-82eacc58c640",
   "metadata": {},
   "outputs": [],
   "source": []
  }
 ],
 "metadata": {
  "kernelspec": {
   "display_name": "Python [conda env:base] *",
   "language": "python",
   "name": "conda-base-py"
  },
  "language_info": {
   "codemirror_mode": {
    "name": "ipython",
    "version": 3
   },
   "file_extension": ".py",
   "mimetype": "text/x-python",
   "name": "python",
   "nbconvert_exporter": "python",
   "pygments_lexer": "ipython3",
   "version": "3.12.7"
  }
 },
 "nbformat": 4,
 "nbformat_minor": 5
}
