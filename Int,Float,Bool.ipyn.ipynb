{
 "cells": [
  {
   "cell_type": "markdown",
   "id": "384bebb4-4435-4cc6-88a4-28668ebab85a",
   "metadata": {},
   "source": [
    "# Task_2"
   ]
  },
  {
   "cell_type": "code",
   "execution_count": 2,
   "id": "bb514098-acf5-4a79-af74-d863d39c4566",
   "metadata": {},
   "outputs": [],
   "source": [
    "# 1. Add and Print the result\n",
    "# - input a = 12, b = 5"
   ]
  },
  {
   "cell_type": "code",
   "execution_count": 4,
   "id": "5ce2cc41-b308-4388-afc6-04d2bc2528f6",
   "metadata": {},
   "outputs": [
    {
     "name": "stdout",
     "output_type": "stream",
     "text": [
      "17\n"
     ]
    }
   ],
   "source": [
    "a = 12\n",
    "b = 5\n",
    "sum = a+b\n",
    "# print (sum"
   ]
  },
  {
   "cell_type": "code",
   "execution_count": 6,
   "id": "921edd8a-c089-4bd0-9ae5-e292cdf2af88",
   "metadata": {},
   "outputs": [],
   "source": [
    "# 2. Multiply x*y and then subtract y\n",
    "# - input a = 10, y = 3"
   ]
  },
  {
   "cell_type": "code",
   "execution_count": 10,
   "id": "e31717b9-88a6-4d35-971a-f65d12d581b7",
   "metadata": {},
   "outputs": [
    {
     "name": "stdout",
     "output_type": "stream",
     "text": [
      "total value = 27\n"
     ]
    }
   ],
   "source": [
    "a = 10\n",
    "y = 3\n",
    "multiply = a*y\n",
    "Result = multiply-y\n",
    "print(\"total value =\", Result)"
   ]
  },
  {
   "cell_type": "code",
   "execution_count": 12,
   "id": "a08ffee3-cf05-4647-9c5b-fc7e7b294572",
   "metadata": {},
   "outputs": [],
   "source": [
    "# 3. Check & print the datatype of x if x is true"
   ]
  },
  {
   "cell_type": "code",
   "execution_count": 20,
   "id": "94169a9f-53b2-4241-a6a3-b0fc54589ffe",
   "metadata": {},
   "outputs": [
    {
     "name": "stdout",
     "output_type": "stream",
     "text": [
      "Datatype of x is: <class 'int'>\n"
     ]
    }
   ],
   "source": [
    "x = 6\n",
    "if x:\n",
    "    print(\"Datatype of x is:\", type(x))"
   ]
  },
  {
   "cell_type": "code",
   "execution_count": 22,
   "id": "e076c553-3c8a-482d-a84c-ac13f233b86f",
   "metadata": {},
   "outputs": [],
   "source": [
    "# 4. Find remainder when one number is divided by another where one number is 17 and the other is 4."
   ]
  },
  {
   "cell_type": "code",
   "execution_count": 26,
   "id": "ec126beb-daee-48ab-af66-b9b165446edc",
   "metadata": {},
   "outputs": [
    {
     "name": "stdout",
     "output_type": "stream",
     "text": [
      "1\n"
     ]
    }
   ],
   "source": [
    "Remainder = 17%4\n",
    "print(Remainder)"
   ]
  },
  {
   "cell_type": "markdown",
   "id": "23d6886c-a836-4eae-bfd7-6b29bddab19f",
   "metadata": {},
   "source": [
    "<!-- 5. Multiply 3 numbers, subtract last where 2,3 and 4 are the numbers. -->"
   ]
  },
  {
   "cell_type": "code",
   "execution_count": 36,
   "id": "a6b700c2-0bb4-4c50-8bb0-37903f397b6e",
   "metadata": {},
   "outputs": [
    {
     "name": "stdout",
     "output_type": "stream",
     "text": [
      "20\n"
     ]
    }
   ],
   "source": [
    "First = 2*3*4\n",
    "Result = First-4\n",
    "print(Result)"
   ]
  },
  {
   "cell_type": "code",
   "execution_count": 38,
   "id": "5bff24a1-fdee-4757-902c-d84ed025d771",
   "metadata": {},
   "outputs": [],
   "source": [
    "# 6. Form a number from a digits 5,6,9"
   ]
  },
  {
   "cell_type": "code",
   "execution_count": 40,
   "id": "6d848dc5-0859-4dd8-943e-e522896a35ef",
   "metadata": {},
   "outputs": [
    {
     "name": "stdout",
     "output_type": "stream",
     "text": [
      "(5, 6, 9)\n"
     ]
    }
   ],
   "source": [
    "number = 5,6,9\n",
    "print(number)"
   ]
  },
  {
   "cell_type": "code",
   "execution_count": 42,
   "id": "d86a9c7c-4354-4701-af3b-a933582dd1f0",
   "metadata": {},
   "outputs": [],
   "source": [
    "8. Find the diff between two integers.\n",
    "input   a=10,b=25 "
   ]
  },
  {
   "cell_type": "code",
   "execution_count": 44,
   "id": "16e0ae9b-518e-4e5b-949e-f0a8d1276c56",
   "metadata": {},
   "outputs": [
    {
     "name": "stdout",
     "output_type": "stream",
     "text": [
      "The Difference Number is: 15\n"
     ]
    }
   ],
   "source": [
    "a = 10\n",
    "b = 25\n",
    "diff = b-a\n",
    "print(\"The Difference Number is:\",diff)"
   ]
  },
  {
   "cell_type": "code",
   "execution_count": 46,
   "id": "3c5e7759-36af-4e44-a1f2-7734eefcacbf",
   "metadata": {},
   "outputs": [],
   "source": [
    "# 9. Add 1 to a given number 99."
   ]
  },
  {
   "cell_type": "code",
   "execution_count": 54,
   "id": "0c1b6404-8af5-4c59-a048-c329c8fa57d2",
   "metadata": {},
   "outputs": [
    {
     "name": "stdout",
     "output_type": "stream",
     "text": [
      "Total 100\n"
     ]
    }
   ],
   "source": [
    "a = 1\n",
    "print(\"Total\",a + 99)"
   ]
  },
  {
   "cell_type": "code",
   "execution_count": 56,
   "id": "07f07da5-3313-4429-8eef-20f16155648b",
   "metadata": {},
   "outputs": [],
   "source": [
    "# 10. Multiply a number by 10 and subtract 5,where number is 6."
   ]
  },
  {
   "cell_type": "code",
   "execution_count": 60,
   "id": "06d5ebfb-cff2-4c35-97be-5ce0916745f4",
   "metadata": {},
   "outputs": [
    {
     "name": "stdout",
     "output_type": "stream",
     "text": [
      "The Result is: 55\n"
     ]
    }
   ],
   "source": [
    "a = 10*6\n",
    "result = a - 5\n",
    "print(\"The Result is:\",result)\n"
   ]
  },
  {
   "cell_type": "code",
   "execution_count": 62,
   "id": "492cf454-e0bb-4f56-8a29-5b00605faa7d",
   "metadata": {},
   "outputs": [],
   "source": [
    "# 11. Add two float numbers 1.234 and 2.456 "
   ]
  },
  {
   "cell_type": "code",
   "execution_count": 66,
   "id": "f002e773-7d15-41e2-89d6-fe00678d0d1f",
   "metadata": {},
   "outputs": [
    {
     "name": "stdout",
     "output_type": "stream",
     "text": [
      "Total float numbers is: 3.69\n"
     ]
    }
   ],
   "source": [
    "first_float = 1.234\n",
    "second_float = 2.456\n",
    "print('Total float numbers is:',first_float+second_float)"
   ]
  },
  {
   "cell_type": "code",
   "execution_count": 68,
   "id": "eb82a130-0833-415a-b06c-3ce9bc7ec810",
   "metadata": {},
   "outputs": [],
   "source": [
    "# 12. calculate the area of circle with radius 2.5 & pi = 3.14."
   ]
  },
  {
   "cell_type": "code",
   "execution_count": 102,
   "id": "4a9c3957-cda1-419f-b993-faa1535dcdc2",
   "metadata": {},
   "outputs": [
    {
     "name": "stdout",
     "output_type": "stream",
     "text": [
      "The Total area of circle is: 19.625\n"
     ]
    }
   ],
   "source": [
    "Area=3.14*2.5**2\n",
    "print(\"The Total area of circle is:\",Area)\n"
   ]
  },
  {
   "cell_type": "code",
   "execution_count": 80,
   "id": "07b1fc11-d315-47b0-980f-62469b5b8ec4",
   "metadata": {},
   "outputs": [],
   "source": [
    "# 13. Multiply a float 2.5 with largest int 1000."
   ]
  },
  {
   "cell_type": "code",
   "execution_count": 84,
   "id": "4851f003-69a7-42ba-8cc4-f6116754bf60",
   "metadata": {},
   "outputs": [
    {
     "name": "stdout",
     "output_type": "stream",
     "text": [
      "the product is:  2500.0\n"
     ]
    }
   ],
   "source": [
    "float = 2.5\n",
    "int = 1000\n",
    "print(\"the product is: \", float*int)"
   ]
  },
  {
   "cell_type": "code",
   "execution_count": 86,
   "id": "820a7783-c798-4344-a0b4-a5d9b26b26b1",
   "metadata": {},
   "outputs": [],
   "source": [
    "# 14. Add float 2.5 with a int 5. What is the output?"
   ]
  },
  {
   "cell_type": "code",
   "execution_count": 88,
   "id": "ac00eab5-cec6-4dda-8be1-72928115a394",
   "metadata": {},
   "outputs": [
    {
     "name": "stdout",
     "output_type": "stream",
     "text": [
      "7.5\n"
     ]
    }
   ],
   "source": [
    "Float = 2.5\n",
    "int = 5\n",
    "sum = Float+int\n",
    "print(sum)"
   ]
  },
  {
   "cell_type": "code",
   "execution_count": 90,
   "id": "1fc73b43-968e-4dda-a541-655484405828",
   "metadata": {},
   "outputs": [],
   "source": [
    "# 15. Calculate Avg value of three float value 2.5,3.5 and7.0."
   ]
  },
  {
   "cell_type": "code",
   "execution_count": 92,
   "id": "f03e20bf-7089-439a-b2c3-b68a8411086a",
   "metadata": {},
   "outputs": [
    {
     "name": "stdout",
     "output_type": "stream",
     "text": [
      "The Average value of three float number is: 4.333333333333333\n"
     ]
    }
   ],
   "source": [
    "a = 2.5\n",
    "b = 3.5\n",
    "c = 7.0\n",
    "Avg = (a + b+ c)/3\n",
    "print(\"The Average value of three float number is:\", Avg)"
   ]
  },
  {
   "cell_type": "code",
   "execution_count": 94,
   "id": "8b490788-38f5-49c9-b127-acafcdb8be92",
   "metadata": {},
   "outputs": [],
   "source": [
    "# 16. given two variables 5 and 8.0 check their data type."
   ]
  },
  {
   "cell_type": "code",
   "execution_count": 96,
   "id": "5b93ebd0-3c88-4b4f-9369-b5c01b18f747",
   "metadata": {},
   "outputs": [
    {
     "name": "stdout",
     "output_type": "stream",
     "text": [
      "DataType of A is : <class 'int'>\n",
      "DataType of B is : <class 'float'>\n"
     ]
    }
   ],
   "source": [
    "A = 5\n",
    "B = 8.0\n",
    "print(\"DataType of A is :\",type(A))\n",
    "print(\"DataType of B is :\",type(B))"
   ]
  },
  {
   "cell_type": "code",
   "execution_count": 98,
   "id": "119924d8-2a34-4838-a1db-cfccdb344ee0",
   "metadata": {},
   "outputs": [],
   "source": [
    "# 17. Multiply an integer 4 with float 2.0."
   ]
  },
  {
   "cell_type": "code",
   "execution_count": 100,
   "id": "c3c6a574-3f91-4b20-9d95-c21acef20cf6",
   "metadata": {},
   "outputs": [
    {
     "name": "stdout",
     "output_type": "stream",
     "text": [
      "Total value of multiply: 8.0\n"
     ]
    }
   ],
   "source": [
    "Int = 4\n",
    "Float = 2.0\n",
    "multiply = 4*2.0\n",
    "print(\"Total value of multiply:\",multiply )"
   ]
  },
  {
   "cell_type": "code",
   "execution_count": 104,
   "id": "8b281041-4f44-4404-9f06-7ae3a17e822a",
   "metadata": {},
   "outputs": [],
   "source": [
    "# 18. Check type before and after dividing it by 2 where number is 5"
   ]
  },
  {
   "cell_type": "code",
   "execution_count": 110,
   "id": "5dadef55-cc2d-456b-b53f-a5702c5b2b63",
   "metadata": {},
   "outputs": [
    {
     "name": "stdout",
     "output_type": "stream",
     "text": [
      "Before division, type of num: <class 'int'>\n",
      "After division, type of result: <class 'float'>\n"
     ]
    }
   ],
   "source": [
    "num = 5\n",
    "\n",
    "# Before division\n",
    "print(\"Before division, type of num:\", type(num))\n",
    "\n",
    "# Divide by 2\n",
    "result = num / 2\n",
    "\n",
    "# After division\n",
    "print(\"After division, type of result:\", type(result))\n"
   ]
  },
  {
   "cell_type": "code",
   "execution_count": 112,
   "id": "9dad9648-d075-4dc2-96f8-e67eaa4d8cc0",
   "metadata": {},
   "outputs": [],
   "source": [
    "# 19. Check the boolean value of x where x is 20"
   ]
  },
  {
   "cell_type": "code",
   "execution_count": 116,
   "id": "fc6c77e8-ef9a-4f9b-911c-f298f3dc191b",
   "metadata": {},
   "outputs": [
    {
     "name": "stdout",
     "output_type": "stream",
     "text": [
      "The Boolean of x is: True\n"
     ]
    }
   ],
   "source": [
    "x = 20\n",
    "print(\"The Boolean of x is:\",bool(x))"
   ]
  },
  {
   "cell_type": "code",
   "execution_count": 118,
   "id": "eaca23cd-97b1-489f-866a-bb01cddcef85",
   "metadata": {},
   "outputs": [],
   "source": [
    "# 20. Check the boolean value of x where x is 0"
   ]
  },
  {
   "cell_type": "code",
   "execution_count": 120,
   "id": "c54bbada-7bab-41d1-b09b-92d603743b69",
   "metadata": {},
   "outputs": [
    {
     "name": "stdout",
     "output_type": "stream",
     "text": [
      "The Boolean of x is: False\n"
     ]
    }
   ],
   "source": [
    "x = 0\n",
    "print(\"The Boolean of x is:\",bool(x))"
   ]
  },
  {
   "cell_type": "code",
   "execution_count": null,
   "id": "06aca723-2443-4fc3-9494-c4e912d32f9d",
   "metadata": {},
   "outputs": [],
   "source": []
  }
 ],
 "metadata": {
  "kernelspec": {
   "display_name": "Python [conda env:base] *",
   "language": "python",
   "name": "conda-base-py"
  },
  "language_info": {
   "codemirror_mode": {
    "name": "ipython",
    "version": 3
   },
   "file_extension": ".py",
   "mimetype": "text/x-python",
   "name": "python",
   "nbconvert_exporter": "python",
   "pygments_lexer": "ipython3",
   "version": "3.12.7"
  }
 },
 "nbformat": 4,
 "nbformat_minor": 5
}
