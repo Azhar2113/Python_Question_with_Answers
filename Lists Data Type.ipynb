{
 "cells": [
  {
   "cell_type": "markdown",
   "id": "e1e13458-3b82-418c-bf02-906c43b19203",
   "metadata": {},
   "source": [
    "# Task 4 List DataType"
   ]
  },
  {
   "cell_type": "code",
   "execution_count": 3,
   "id": "fc370504-0402-4af3-b220-77b86de55b1e",
   "metadata": {},
   "outputs": [],
   "source": [
    "# 1. Give the list numbers =[10,20,30,40,50] print second & fourth element of the list "
   ]
  },
  {
   "cell_type": "code",
   "execution_count": 13,
   "id": "dcf334ae-5521-40a9-8c44-e3baa7fab8fe",
   "metadata": {},
   "outputs": [
    {
     "name": "stdout",
     "output_type": "stream",
     "text": [
      "20\n",
      "30\n"
     ]
    }
   ],
   "source": [
    "num= [10,20,30,40,50]\n",
    "result1=num[1]\n",
    "result2=num[2]\n",
    "print(result1)\n",
    "print(result2)"
   ]
  },
  {
   "cell_type": "code",
   "execution_count": 15,
   "id": "29eeec56-196c-44f1-8364-b2223087afdd",
   "metadata": {},
   "outputs": [],
   "source": [
    "# 2. Given the list of number =[1,2,3,4,10,9,8,4], print the last three number usind slicing."
   ]
  },
  {
   "cell_type": "code",
   "execution_count": 31,
   "id": "2a240373-80ed-485a-bbf8-2e895597e9a7",
   "metadata": {},
   "outputs": [
    {
     "name": "stdout",
     "output_type": "stream",
     "text": [
      "[9, 8, 4]\n"
     ]
    }
   ],
   "source": [
    "num=[1,2,3,4,10,9,8,4]\n",
    "print(num[5:8])"
   ]
  },
  {
   "cell_type": "code",
   "execution_count": 33,
   "id": "e046d7c8-da67-48ca-8fb8-e80790281241",
   "metadata": {},
   "outputs": [],
   "source": [
    "# 3. Create a list of number and print both the max and min values in the list using the max() and min() functions?"
   ]
  },
  {
   "cell_type": "code",
   "execution_count": 41,
   "id": "d35c3617-5b78-4b7f-974a-6c33917ea33f",
   "metadata": {},
   "outputs": [
    {
     "name": "stdout",
     "output_type": "stream",
     "text": [
      "9 1\n"
     ]
    }
   ],
   "source": [
    "l= [1,2,3,4,5,6,7,8,9]\n",
    "result1=max(l)\n",
    "result2=min(l)\n",
    "print(result1,result2)"
   ]
  },
  {
   "cell_type": "code",
   "execution_count": 43,
   "id": "4bfda0d1-fca9-412c-b129-8826e0b61e69",
   "metadata": {},
   "outputs": [],
   "source": [
    "# 4.Create a list of letter, sort them and print the list oin reverse order? "
   ]
  },
  {
   "cell_type": "code",
   "execution_count": 51,
   "id": "d4b2a64b-00ff-41c3-b1e8-056ea1d4c7f5",
   "metadata": {},
   "outputs": [
    {
     "name": "stdout",
     "output_type": "stream",
     "text": [
      "['a', 'b', 'd', 'e', 'g', 'o', 't']\n",
      "['t', 'o', 'g', 'e', 'd', 'b', 'a']\n"
     ]
    }
   ],
   "source": [
    "l= ['d','b','e','t','g','o','a']\n",
    "l.sort()\n",
    "print(l)\n",
    "l.sort(reverse= True)\n",
    "print(l)"
   ]
  },
  {
   "cell_type": "code",
   "execution_count": 53,
   "id": "ed23aa22-3298-4630-b587-41d5a77c3359",
   "metadata": {},
   "outputs": [],
   "source": [
    "# 5. Create a list of string and count how many times a specefic string appears in the list using the count() method?"
   ]
  },
  {
   "cell_type": "code",
   "execution_count": 61,
   "id": "22d2b3b0-6825-45c4-b45a-9a4dbf1801c0",
   "metadata": {},
   "outputs": [
    {
     "name": "stdout",
     "output_type": "stream",
     "text": [
      "3\n"
     ]
    }
   ],
   "source": [
    "l=['apple','banana','apple','orange','onion','mango','mango','mango']\n",
    "print(l.count('mango'))"
   ]
  },
  {
   "cell_type": "code",
   "execution_count": 63,
   "id": "3e7daaa2-f615-475f-9019-3ecaf2f17470",
   "metadata": {},
   "outputs": [],
   "source": [
    "#6. Create a list of colors.change the first the color of the list and vice-versa,print the updated list?  "
   ]
  },
  {
   "cell_type": "code",
   "execution_count": 67,
   "id": "546e4702-3224-4bfe-8ef4-91727baa5869",
   "metadata": {},
   "outputs": [
    {
     "name": "stdout",
     "output_type": "stream",
     "text": [
      "['white', 'orange', 'yellow', 'blue', 'red']\n"
     ]
    }
   ],
   "source": [
    "a= ['red','orange','yellow','blue','white']\n",
    "a[0],a[-1]=a[-1],a[0]\n",
    "print(a)\n"
   ]
  },
  {
   "cell_type": "code",
   "execution_count": 69,
   "id": "915a96f3-4a33-4c0b-932e-3b95c5ae9ae8",
   "metadata": {},
   "outputs": [],
   "source": [
    "# 7. write a code for getting \"hello\" as output from the given list ?\n",
    "# l=[25,30[26,27,28,'Hello'],[32,38]]"
   ]
  },
  {
   "cell_type": "code",
   "execution_count": 75,
   "id": "d5440210-c6a4-4fd7-abda-4c4b5c2b4967",
   "metadata": {},
   "outputs": [
    {
     "name": "stdout",
     "output_type": "stream",
     "text": [
      "Hello\n"
     ]
    }
   ],
   "source": [
    "l=[25,30,[26,27,28,'Hello'],[32,38]]\n",
    "print(l[2][3])"
   ]
  },
  {
   "cell_type": "code",
   "execution_count": 79,
   "id": "fcb34f2b-f958-427c-ac38-ad7957cf315d",
   "metadata": {},
   "outputs": [],
   "source": [
    "# 8. For the above given list replace 27 with 43"
   ]
  },
  {
   "cell_type": "code",
   "execution_count": 85,
   "id": "9bc99af8-11ac-4573-b597-cb7edf8b05bf",
   "metadata": {},
   "outputs": [],
   "source": [
    "# The .replace() method does not exist for python list[] \n",
    "# Its a method for string not list that's why python will throw an attribute error."
   ]
  },
  {
   "cell_type": "code",
   "execution_count": 89,
   "id": "d6468665-e2dc-40c6-a13a-6c13fa0d720d",
   "metadata": {},
   "outputs": [],
   "source": [
    "# 9. Insert a value 'True' at last second position."
   ]
  },
  {
   "cell_type": "code",
   "execution_count": 95,
   "id": "d2d2d2fc-b83f-4813-92b3-af239fc6130e",
   "metadata": {},
   "outputs": [
    {
     "name": "stdout",
     "output_type": "stream",
     "text": [
      "[10, 20, 30, 40, True, 50]\n"
     ]
    }
   ],
   "source": [
    "l= [10,20,30,40,50]\n",
    "l.insert(-1,True)\n",
    "print(l)"
   ]
  },
  {
   "cell_type": "code",
   "execution_count": 97,
   "id": "eba2b61d-0818-4341-a235-1ca5926d4d7b",
   "metadata": {},
   "outputs": [],
   "source": [
    "# 10. write a python program to merge to sorted lists into a single sorted list."
   ]
  },
  {
   "cell_type": "code",
   "execution_count": 99,
   "id": "4941e586-8173-4411-9aef-09658cb79a19",
   "metadata": {},
   "outputs": [
    {
     "name": "stdout",
     "output_type": "stream",
     "text": [
      "[1, 2, 3, 4, 5, 6, 7, 8, 9, 10]\n"
     ]
    }
   ],
   "source": [
    "a=[1,2,3,4,5]\n",
    "b=[6,7,8,9,10]\n",
    "print(a+b)"
   ]
  },
  {
   "cell_type": "code",
   "execution_count": 101,
   "id": "5c134140-9dce-4eff-8310-ba2ee5bfe300",
   "metadata": {},
   "outputs": [],
   "source": [
    "# 11. Create an empty list and ask user to enter thier fav fruits to the empty list using append method."
   ]
  },
  {
   "cell_type": "code",
   "execution_count": 103,
   "id": "c08a4f04-fb6e-4f7b-8e60-48013b38dffa",
   "metadata": {},
   "outputs": [],
   "source": [
    "fruits=[] "
   ]
  },
  {
   "cell_type": "code",
   "execution_count": null,
   "id": "4926de11-7396-448d-b4d8-aa7fe2cd9559",
   "metadata": {},
   "outputs": [],
   "source": []
  }
 ],
 "metadata": {
  "kernelspec": {
   "display_name": "Python [conda env:base] *",
   "language": "python",
   "name": "conda-base-py"
  },
  "language_info": {
   "codemirror_mode": {
    "name": "ipython",
    "version": 3
   },
   "file_extension": ".py",
   "mimetype": "text/x-python",
   "name": "python",
   "nbconvert_exporter": "python",
   "pygments_lexer": "ipython3",
   "version": "3.12.7"
  }
 },
 "nbformat": 4,
 "nbformat_minor": 5
}
