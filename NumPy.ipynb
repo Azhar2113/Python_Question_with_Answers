{
 "cells": [
  {
   "cell_type": "markdown",
   "id": "a3fce4ed-aa66-43dc-9a2e-2b88e062599e",
   "metadata": {},
   "source": [
    "# NumPy"
   ]
  },
  {
   "cell_type": "markdown",
   "id": "ac5d966c-32d0-4f6a-a048-5671d7299080",
   "metadata": {},
   "source": [
    "1. Given a list[1,2,3,4,5] create a numpy array from it ?"
   ]
  },
  {
   "cell_type": "code",
   "execution_count": 3,
   "id": "5f068518-ac6a-4429-b6c8-4faeb5354bd0",
   "metadata": {},
   "outputs": [
    {
     "name": "stdout",
     "output_type": "stream",
     "text": [
      "[1 2 3 4 5]\n"
     ]
    }
   ],
   "source": [
    "import numpy as np\n",
    "l=[1,2,3,4,5]\n",
    "arr=np.array(l)\n",
    "print(arr)"
   ]
  },
  {
   "cell_type": "markdown",
   "id": "cae19f8c-b48a-4969-8cbf-4648892a4990",
   "metadata": {},
   "source": [
    "2. Create an array of 10 zeros"
   ]
  },
  {
   "cell_type": "code",
   "execution_count": 5,
   "id": "948b81af-9768-439d-a83f-7622ac8f3cbd",
   "metadata": {},
   "outputs": [
    {
     "name": "stdout",
     "output_type": "stream",
     "text": [
      "[0. 0. 0. 0. 0. 0. 0. 0. 0. 0.]\n"
     ]
    }
   ],
   "source": [
    "a= np.zeros(10)\n",
    "print(a)"
   ]
  },
  {
   "cell_type": "markdown",
   "id": "27fc0d94-d76b-4729-9415-b77d825680b4",
   "metadata": {},
   "source": [
    "3.Generate an array with values from 10 to 50?"
   ]
  },
  {
   "cell_type": "code",
   "execution_count": 7,
   "id": "fbe24d29-1bb2-4ad5-8b01-206369da0dc6",
   "metadata": {},
   "outputs": [
    {
     "name": "stdout",
     "output_type": "stream",
     "text": [
      "[ 50  51  52  53  54  55  56  57  58  59  60  61  62  63  64  65  66  67\n",
      "  68  69  70  71  72  73  74  75  76  77  78  79  80  81  82  83  84  85\n",
      "  86  87  88  89  90  91  92  93  94  95  96  97  98  99 100]\n"
     ]
    }
   ],
   "source": [
    "a=np.arange(50,101)\n",
    "print(a)"
   ]
  },
  {
   "cell_type": "markdown",
   "id": "11b3cc45-0827-4f5c-b4f7-edc5aa1c4500",
   "metadata": {},
   "source": [
    "4. Givn an array arr= np.array[10,20,30,40,50]Extract the first and last element?"
   ]
  },
  {
   "cell_type": "code",
   "execution_count": 9,
   "id": "a52804de-b04b-47c0-8df0-655e82e1ce14",
   "metadata": {},
   "outputs": [
    {
     "name": "stdout",
     "output_type": "stream",
     "text": [
      "10\n",
      "50\n"
     ]
    }
   ],
   "source": [
    "ar= np.array([10,20,30,40,50])\n",
    "print(ar[0])\n",
    "print(ar[-1])"
   ]
  },
  {
   "cell_type": "markdown",
   "id": "e74a59e9-9bcf-465c-bc7d-624f6845259d",
   "metadata": {},
   "source": [
    "5. Given two arrays, a= np.array ([1,2,3]) and b=np.array([4,5,6]),perform element wise addition?"
   ]
  },
  {
   "cell_type": "code",
   "execution_count": 11,
   "id": "76bbaa6e-2bb3-4def-a4b6-e7c158f992fc",
   "metadata": {},
   "outputs": [
    {
     "name": "stdout",
     "output_type": "stream",
     "text": [
      "[5 7 9]\n"
     ]
    }
   ],
   "source": [
    "a=np.array([1,2,3])\n",
    "b=np.array([4,5,6])\n",
    "print(a+b)"
   ]
  },
  {
   "cell_type": "markdown",
   "id": "a67036aa-9853-49a6-96c1-d706141b42cf",
   "metadata": {},
   "source": [
    "6. Given  a= np.array([1,2]) and b=np.array([3,4]) calculte dot product of these two vector "
   ]
  },
  {
   "cell_type": "code",
   "execution_count": 13,
   "id": "48bbcc1d-691b-43f3-8efc-d59ca9572d19",
   "metadata": {},
   "outputs": [
    {
     "name": "stdout",
     "output_type": "stream",
     "text": [
      "11\n"
     ]
    }
   ],
   "source": [
    "a= np.array([1,2])\n",
    "b=np.array([3,4])\n",
    "print(np.dot(a,b))"
   ]
  },
  {
   "cell_type": "markdown",
   "id": "5451fbb9-bdc0-402c-ad49-005cd2b2fda9",
   "metadata": {},
   "source": [
    "7. Given  a= np.array([10,20,30,40,50]) Extract element from index 1 to 3 (Inclusive of start, exculsive of end)?"
   ]
  },
  {
   "cell_type": "code",
   "execution_count": 15,
   "id": "d7090a85-3c59-4649-b842-8a1edc623b5c",
   "metadata": {},
   "outputs": [
    {
     "name": "stdout",
     "output_type": "stream",
     "text": [
      "[10 20 30]\n"
     ]
    }
   ],
   "source": [
    "a= np.array([10,20,30,40,50]) \n",
    "print(a[0:3])"
   ]
  },
  {
   "cell_type": "markdown",
   "id": "3a165815-3ac9-45eb-a8fc-2efb4ac363a3",
   "metadata": {},
   "source": [
    "8. Given a= np.array([10,20,30,40,50]) Reverse the element in the array using slicing ?"
   ]
  },
  {
   "cell_type": "code",
   "execution_count": 17,
   "id": "6e15a166-d47a-45fd-9456-4b0a8a064b46",
   "metadata": {},
   "outputs": [
    {
     "name": "stdout",
     "output_type": "stream",
     "text": [
      "[50 40 30 20 10]\n"
     ]
    }
   ],
   "source": [
    "a= np.array([10,20,30,40,50])\n",
    "print(a[::-1])"
   ]
  },
  {
   "cell_type": "markdown",
   "id": "6c7a464b-9afb-4868-b688-ff91e7123b62",
   "metadata": {},
   "source": [
    "9. Replace all element in a= np.array([10,20,30,40,50]) Greater than 25 with 0?"
   ]
  },
  {
   "cell_type": "code",
   "execution_count": 19,
   "id": "0f5bd7bc-8fc5-4d0d-96d0-0922fb887862",
   "metadata": {},
   "outputs": [
    {
     "name": "stdout",
     "output_type": "stream",
     "text": [
      "[10 20  0  0  0]\n"
     ]
    }
   ],
   "source": [
    "a= np.array([10,20,30,40,50])\n",
    "a[a>25]=0\n",
    "print(a)"
   ]
  },
  {
   "cell_type": "markdown",
   "id": "660d81de-576b-4649-92b9-96ed3f4e1f53",
   "metadata": {},
   "source": [
    "10.Replace all odd numbers in the array with -1"
   ]
  },
  {
   "cell_type": "code",
   "execution_count": 21,
   "id": "a2f19289-292e-43ec-86ea-9dbf09942637",
   "metadata": {},
   "outputs": [
    {
     "name": "stdout",
     "output_type": "stream",
     "text": [
      "[ 2 -1  4 -1  6 -1  8 -1]\n"
     ]
    }
   ],
   "source": [
    "a=np.array([2,3,4,5,6,7,8,9])\n",
    "a[a % 2 != 0]=-1\n",
    "print(a)"
   ]
  },
  {
   "cell_type": "markdown",
   "id": "5e6d4d0c-4a04-476c-9ae5-8f70025f514a",
   "metadata": {},
   "source": [
    "11. Calculating the square root of each element in an array?"
   ]
  },
  {
   "cell_type": "code",
   "execution_count": 23,
   "id": "590621a7-5b05-4ea3-a45b-5012f4bb3c8e",
   "metadata": {},
   "outputs": [
    {
     "name": "stdout",
     "output_type": "stream",
     "text": [
      "[ 4  9 16 25 36 49 64 81]\n"
     ]
    }
   ],
   "source": [
    "a=np.array([2,3,4,5,6,7,8,9])\n",
    "print(a**2)"
   ]
  },
  {
   "cell_type": "markdown",
   "id": "a09d2a5f-463a-4677-a125-4b858b65504a",
   "metadata": {},
   "source": [
    "12. Given a= np.array([3,5,1,2,4]), find the min and max value and their respective indices?"
   ]
  },
  {
   "cell_type": "code",
   "execution_count": 25,
   "id": "31fd0160-c206-4dda-af47-b8854bdc79d2",
   "metadata": {},
   "outputs": [
    {
     "name": "stdout",
     "output_type": "stream",
     "text": [
      "1\n",
      "5\n"
     ]
    }
   ],
   "source": [
    "a= np.array([3,5,1,2,4])\n",
    "print(a.min())\n",
    "print(a.max())"
   ]
  },
  {
   "cell_type": "markdown",
   "id": "120d39cd-cd76-4381-83ee-14e9b3ea0e24",
   "metadata": {},
   "source": [
    "13. Given a= np.array([10,15,20,25,30,]), filter out element that are greater than 20?"
   ]
  },
  {
   "cell_type": "code",
   "execution_count": 27,
   "id": "080f1475-32e6-482b-9ce7-ae2e91fd32aa",
   "metadata": {},
   "outputs": [
    {
     "name": "stdout",
     "output_type": "stream",
     "text": [
      "[25 30]\n"
     ]
    }
   ],
   "source": [
    "a= np.array([10,15,20,25,30,])\n",
    "b=a[a>20]\n",
    "print(b)"
   ]
  },
  {
   "cell_type": "markdown",
   "id": "31dbd606-24df-435b-beff-320982c94ed8",
   "metadata": {},
   "source": [
    "14. Given a= np.array([10,20,30,40,50]) select only values that are greater than 10 and less than 25?"
   ]
  },
  {
   "cell_type": "code",
   "execution_count": 29,
   "id": "b2fa064d-1c8a-4d42-a625-8ff56bf809ad",
   "metadata": {},
   "outputs": [
    {
     "name": "stdout",
     "output_type": "stream",
     "text": [
      "[20]\n"
     ]
    }
   ],
   "source": [
    "a= np.array([10,20,30,40,50])\n",
    "b=a[(a>10) & (a<25)]\n",
    "print(b)\n"
   ]
  },
  {
   "cell_type": "markdown",
   "id": "8678de77-ef5e-4937-a37b-24abbbe15974",
   "metadata": {},
   "source": [
    "15. Given a= np.array([4,6,8,10,12]) Find indices of all element greater than 8?"
   ]
  },
  {
   "cell_type": "code",
   "execution_count": 31,
   "id": "6e68ee06-d027-4614-af6a-67d134778eef",
   "metadata": {},
   "outputs": [
    {
     "name": "stdout",
     "output_type": "stream",
     "text": [
      "Indices (array([3, 4]),)\n"
     ]
    }
   ],
   "source": [
    "a= np.array([4,6,8,10,12])\n",
    "ind=np.where(a>8)\n",
    "print(\"Indices\",ind)"
   ]
  },
  {
   "cell_type": "markdown",
   "id": "41ece72c-4c15-4648-b7dd-99e229f4cc12",
   "metadata": {},
   "source": [
    "16. How can you set a random seed in NumPy to ensure reproducibility?"
   ]
  },
  {
   "cell_type": "code",
   "execution_count": 51,
   "id": "8f23e58a-9627-49f2-aeb3-e2807088466b",
   "metadata": {},
   "outputs": [
    {
     "name": "stdout",
     "output_type": "stream",
     "text": [
      "[52 93 15 72 61 21 83 87 75 75 88 24  3 22 53  2 88 30 38  2 64 60 21 33\n",
      " 76 58 22 89 49 91 59 42 92 60 80 15 62 62 47 62 51 55 64  3 51  7 21 73\n",
      " 39 18  4 89 60 14  9 90 53  2 84 92 60 71 44  8 47 35 78 81 36 50  4  2\n",
      "  6 54  4 54 93 63 18 90 44 34 74 62 14 95 48 15 72 78 87 62 40 85 80 82\n",
      " 53 24 26 89]\n"
     ]
    }
   ],
   "source": [
    "np.random.seed(42)\n",
    "print(np.random.randint(1, 100, 100))\n"
   ]
  },
  {
   "cell_type": "markdown",
   "id": "0d73e1cc-1365-48e3-87eb-137d34431b96",
   "metadata": {},
   "source": [
    "17. Given two array  a= np.array ([1,2,3]) and b=np.array([4,5,6]) calculate the mean and standard deviation of the element in an array ?"
   ]
  },
  {
   "cell_type": "code",
   "execution_count": 55,
   "id": "8bafb8d0-e8e0-4bda-b629-b354cf332f5d",
   "metadata": {},
   "outputs": [
    {
     "name": "stdout",
     "output_type": "stream",
     "text": [
      "Mean of a: 2.0\n",
      "Standard Deviation of a: 0.816496580927726\n",
      "Mean of b: 5.0\n",
      "Standard Deviation of b: 0.816496580927726\n"
     ]
    }
   ],
   "source": [
    "import numpy as np\n",
    "\n",
    "a = np.array([1, 2, 3])\n",
    "b = np.array([4, 5, 6])\n",
    "\n",
    "# Mean and Standard Deviation of a\n",
    "mean_a = np.mean(a)\n",
    "std_a = np.std(a)\n",
    "\n",
    "# Mean and Standard Deviation of b\n",
    "mean_b = np.mean(b)\n",
    "std_b = np.std(b)\n",
    "\n",
    "print(\"Mean of a:\", mean_a)\n",
    "print(\"Standard Deviation of a:\", std_a)\n",
    "\n",
    "print(\"Mean of b:\", mean_b)\n",
    "print(\"Standard Deviation of b:\", std_b)\n"
   ]
  },
  {
   "cell_type": "markdown",
   "id": "78f07b01-5c9c-4286-831c-a965c544458a",
   "metadata": {},
   "source": [
    "18. Given two array a= np.array ([1,2,3,4,5]) and b=np.array([4,5,6,7,8]) Find the:\n",
    "    - Intersection of a and b\n",
    "    - Union of  and b"
   ]
  },
  {
   "cell_type": "code",
   "execution_count": 69,
   "id": "f98fb804-3cb2-449a-ae45-ae200b1c7870",
   "metadata": {},
   "outputs": [
    {
     "name": "stdout",
     "output_type": "stream",
     "text": [
      "[4 5]\n",
      "[1 2 3 4 5 6 7 8]\n"
     ]
    }
   ],
   "source": [
    "a= np.array ([1,2,3,4,5])\n",
    "b=np.array([4,5,6,7,8])\n",
    "\n",
    "# Intersection of a and b\n",
    "print(np.intersect1d(a,b))\n",
    "\n",
    "# Union of and b\n",
    "print(np.union1d(a,b))"
   ]
  },
  {
   "cell_type": "markdown",
   "id": "7d75300f-a3b4-4b56-8859-27734e5178b9",
   "metadata": {},
   "source": [
    "19. Given a= np.array([10,20,30,40,50])\n",
    "    - Find the max, min & mean of the above given array?\n",
    "      "
   ]
  },
  {
   "cell_type": "code",
   "execution_count": 85,
   "id": "a7cbb58e-17cc-4a68-85c2-abf325478cf3",
   "metadata": {},
   "outputs": [
    {
     "name": "stdout",
     "output_type": "stream",
     "text": [
      "max 50\n",
      "Min 10\n",
      "Mean 30.0\n"
     ]
    }
   ],
   "source": [
    "a= np.array([10,20,30,40,50])\n",
    "m1=np.max(a)\n",
    "m2=np.min(a)\n",
    "a=np.mean(a)\n",
    "\n",
    "print(\"max\",m1)\n",
    "print(\"Min\",m2)\n",
    "print(\"Mean\",a)"
   ]
  },
  {
   "cell_type": "markdown",
   "id": "e06b47da-dc3b-4972-b224-a6c0b8b1d7a3",
   "metadata": {},
   "source": [
    "20. Find the index of the max & min elements of the above mentioned array?"
   ]
  },
  {
   "cell_type": "code",
   "execution_count": 88,
   "id": "1225fae0-fdf2-4a71-9d3e-6de0abb9679f",
   "metadata": {},
   "outputs": [
    {
     "name": "stdout",
     "output_type": "stream",
     "text": [
      "Index of Max Element: 4\n",
      "Index of Min Element: 0\n"
     ]
    }
   ],
   "source": [
    "\n",
    "a = np.array([10, 20, 30, 40, 50])\n",
    "\n",
    "# Index of max and min elements\n",
    "max_index = np.argmax(a)\n",
    "min_index = np.argmin(a)\n",
    "\n",
    "print(\"Index of Max Element:\", max_index)\n",
    "print(\"Index of Min Element:\", min_index)\n"
   ]
  },
  {
   "cell_type": "code",
   "execution_count": null,
   "id": "38d49a46-1449-4dd6-a27e-a4b4227f92eb",
   "metadata": {},
   "outputs": [],
   "source": []
  }
 ],
 "metadata": {
  "kernelspec": {
   "display_name": "Python [conda env:base] *",
   "language": "python",
   "name": "conda-base-py"
  },
  "language_info": {
   "codemirror_mode": {
    "name": "ipython",
    "version": 3
   },
   "file_extension": ".py",
   "mimetype": "text/x-python",
   "name": "python",
   "nbconvert_exporter": "python",
   "pygments_lexer": "ipython3",
   "version": "3.12.7"
  }
 },
 "nbformat": 4,
 "nbformat_minor": 5
}
