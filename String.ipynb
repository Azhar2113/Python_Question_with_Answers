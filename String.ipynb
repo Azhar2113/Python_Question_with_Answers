{
 "cells": [
  {
   "cell_type": "markdown",
   "id": "3617acc5-8123-4fe4-9455-d6fd4f3ce86d",
   "metadata": {},
   "source": [
    "# STRING\n"
   ]
  },
  {
   "cell_type": "code",
   "execution_count": 2,
   "id": "c4abd100-95ee-4243-b37b-ae0ed3a04721",
   "metadata": {},
   "outputs": [],
   "source": [
    "#1.  Write a function that take a string and returns it reversed"
   ]
  },
  {
   "cell_type": "code",
   "execution_count": 3,
   "id": "41b18208-d4e0-419c-a501-f1eab1a0e7b0",
   "metadata": {},
   "outputs": [
    {
     "name": "stdin",
     "output_type": "stream",
     "text": [
      "Enter a string = sahil\n"
     ]
    },
    {
     "name": "stdout",
     "output_type": "stream",
     "text": [
      "lihas\n"
     ]
    }
   ],
   "source": [
    "A = input(\"Enter a string =\")\n",
    "print(A[::-1])"
   ]
  },
  {
   "cell_type": "code",
   "execution_count": 4,
   "id": "08ee0e1f-0664-4b02-9d12-237e05f0773b",
   "metadata": {},
   "outputs": [],
   "source": [
    "# 2. Check if a string is a palindrome using string slicing.\n",
    "# Example : input: \"Madam\" , True"
   ]
  },
  {
   "cell_type": "code",
   "execution_count": 5,
   "id": "2ff31dd7-5301-4b84-accf-f2e6232ee338",
   "metadata": {},
   "outputs": [
    {
     "name": "stdin",
     "output_type": "stream",
     "text": [
      "Enter a string sahil\n"
     ]
    },
    {
     "name": "stdout",
     "output_type": "stream",
     "text": [
      "False\n"
     ]
    }
   ],
   "source": [
    "S = input(\"Enter a string\")\n",
    "print(S==S[::-1])"
   ]
  },
  {
   "cell_type": "code",
   "execution_count": 6,
   "id": "3f312aa5-e983-489e-9c21-9ea1c5321907",
   "metadata": {},
   "outputs": [],
   "source": [
    "# 3. Replace all spaces \" \" in string with underscores \"_\" ."
   ]
  },
  {
   "cell_type": "code",
   "execution_count": 7,
   "id": "c0ef1baf-ab10-4f0a-a064-c5a5fb4535cb",
   "metadata": {},
   "outputs": [
    {
     "name": "stdout",
     "output_type": "stream",
     "text": [
      "How_are_you\n"
     ]
    }
   ],
   "source": [
    "hi=(\"How are you\")\n",
    "print(hi.replace(\" \",\"_\"))"
   ]
  },
  {
   "cell_type": "code",
   "execution_count": 8,
   "id": "81ebda6b-4aa0-455f-99e0-763c52d74746",
   "metadata": {},
   "outputs": [],
   "source": [
    "# 4. Count how many times in a character appears in a string banana. "
   ]
  },
  {
   "cell_type": "code",
   "execution_count": 9,
   "id": "3a434f4e-f056-493d-b39b-6923552ed5d9",
   "metadata": {},
   "outputs": [
    {
     "name": "stdout",
     "output_type": "stream",
     "text": [
      "1\n"
     ]
    }
   ],
   "source": [
    "fruit= \"Banana\"\n",
    "print(fruit.count(\"Banana\"))"
   ]
  },
  {
   "cell_type": "code",
   "execution_count": 10,
   "id": "d6795ac3-f2e7-4c13-a212-ecc15ce14876",
   "metadata": {},
   "outputs": [],
   "source": [
    "# 5. Find the index of first occurence of a character"
   ]
  },
  {
   "cell_type": "code",
   "execution_count": 11,
   "id": "b345186f-affb-4fb5-a197-b194f4167497",
   "metadata": {},
   "outputs": [
    {
     "name": "stdout",
     "output_type": "stream",
     "text": [
      "The index is first Occurence is: 8\n"
     ]
    }
   ],
   "source": [
    "name= \"Azhar Aftab\"\n",
    "char='t'\n",
    "index= name.find(char)\n",
    "print(\"The index is first Occurence is:\",index)"
   ]
  },
  {
   "cell_type": "code",
   "execution_count": 12,
   "id": "8ace150b-62e9-4880-997a-b7a7d07f9582",
   "metadata": {},
   "outputs": [],
   "source": [
    "# 6. Convert all char in a str openai to UPPERCASE.\n"
   ]
  },
  {
   "cell_type": "code",
   "execution_count": 13,
   "id": "ade89a1a-db49-4f9c-80b9-c2f0dc844e8d",
   "metadata": {},
   "outputs": [
    {
     "name": "stdout",
     "output_type": "stream",
     "text": [
      "OPENAI\n"
     ]
    }
   ],
   "source": [
    "A= \"openai\"\n",
    "print(A.upper())"
   ]
  },
  {
   "cell_type": "code",
   "execution_count": 14,
   "id": "1d8b8cb4-4878-42d8-bf34-af188fa0d0e6",
   "metadata": {},
   "outputs": [
    {
     "data": {
      "text/plain": [
       "7.0"
      ]
     },
     "execution_count": 14,
     "metadata": {},
     "output_type": "execute_result"
    }
   ],
   "source": [
    "7. "
   ]
  },
  {
   "cell_type": "code",
   "execution_count": 15,
   "id": "5a6e58ae-761e-4bbd-88aa-24ed29d9d33b",
   "metadata": {},
   "outputs": [],
   "source": [
    "# 8. Join two strings Hello and World together without using any list or other type. "
   ]
  },
  {
   "cell_type": "code",
   "execution_count": 16,
   "id": "4e484628-1f87-4a19-b1cd-bf086c42d2cd",
   "metadata": {},
   "outputs": [
    {
     "name": "stdout",
     "output_type": "stream",
     "text": [
      "hello world\n"
     ]
    }
   ],
   "source": [
    "a= \"hello\"\n",
    "b= \"world\"\n",
    "print(a+\" \"+b)"
   ]
  },
  {
   "cell_type": "code",
   "execution_count": 17,
   "id": "950b8742-b040-41db-9c60-d146f567a6e0",
   "metadata": {},
   "outputs": [],
   "source": [
    "# 9. Remove all occurrence of specific char \"m\" from programming word."
   ]
  },
  {
   "cell_type": "code",
   "execution_count": 18,
   "id": "0ef31738-901d-4c97-a614-b48c26533ff7",
   "metadata": {},
   "outputs": [
    {
     "name": "stdout",
     "output_type": "stream",
     "text": [
      "prograing\n"
     ]
    }
   ],
   "source": [
    "a='programming'\n",
    "print(a.replace(\"m\",\"\"))"
   ]
  },
  {
   "cell_type": "code",
   "execution_count": 19,
   "id": "3c055598-c246-45ed-879b-83b9a4975e5a",
   "metadata": {},
   "outputs": [],
   "source": [
    "# 10.Extract \"gram\" from the string \"programming\". "
   ]
  },
  {
   "cell_type": "code",
   "execution_count": 20,
   "id": "0f90744f-7e16-45bc-9227-e34f7a3c5dd6",
   "metadata": {},
   "outputs": [
    {
     "name": "stdout",
     "output_type": "stream",
     "text": [
      "gram\n"
     ]
    }
   ],
   "source": [
    "a= 'programming'\n",
    "index= a[3:7]\n",
    "print(index)\n"
   ]
  },
  {
   "cell_type": "code",
   "execution_count": 21,
   "id": "9b543af9-157f-4cb3-b9f6-57b73e48bf5c",
   "metadata": {},
   "outputs": [],
   "source": [
    "# 11. Find the number of character is a string 'Hello World.'"
   ]
  },
  {
   "cell_type": "code",
   "execution_count": null,
   "id": "47129f7d-5b56-4228-ac70-d8e4633b93c6",
   "metadata": {},
   "outputs": [],
   "source": []
  },
  {
   "cell_type": "code",
   "execution_count": 45,
   "id": "13389920-5bd1-4557-a4eb-150f443bccef",
   "metadata": {},
   "outputs": [
    {
     "name": "stdout",
     "output_type": "stream",
     "text": [
      "11\n"
     ]
    }
   ],
   "source": [
    "char= \"Hello_World\"\n",
    "L= len(char)\n",
    "print(L)"
   ]
  },
  {
   "cell_type": "code",
   "execution_count": 47,
   "id": "4848b557-810e-4f70-9b0b-a1e9c4c97029",
   "metadata": {},
   "outputs": [],
   "source": [
    "# 12. In string 'hello everyone'replace'everyone'with'there'."
   ]
  },
  {
   "cell_type": "code",
   "execution_count": 89,
   "id": "738740b4-cd8f-4f1c-bd27-307f06460974",
   "metadata": {},
   "outputs": [
    {
     "name": "stdout",
     "output_type": "stream",
     "text": [
      "Hello There\n"
     ]
    }
   ],
   "source": [
    "str= \"Hello everyone\"\n",
    "b=str.replace(\"everyone\", \"There\")\n",
    "print(b)"
   ]
  },
  {
   "cell_type": "code",
   "execution_count": 59,
   "id": "2c9fed6b-ac74-40a2-93bf-6331d1d82528",
   "metadata": {},
   "outputs": [
    {
     "ename": "SyntaxError",
     "evalue": "invalid syntax (1525796002.py, line 1)",
     "output_type": "error",
     "traceback": [
      "\u001b[0;36m  Cell \u001b[0;32mIn[59], line 1\u001b[0;36m\u001b[0m\n\u001b[0;31m    12. Change \"hello how are you\" to \"hello-world-how-are-you\".\u001b[0m\n\u001b[0m        ^\u001b[0m\n\u001b[0;31mSyntaxError\u001b[0m\u001b[0;31m:\u001b[0m invalid syntax\n"
     ]
    }
   ],
   "source": [
    "# 13. Change \"hello how are you\" to \"hello-world-how-are-you\"."
   ]
  },
  {
   "cell_type": "code",
   "execution_count": 79,
   "id": "31c908ce-3698-4ff0-930d-b73542ff28d4",
   "metadata": {},
   "outputs": [
    {
     "name": "stdout",
     "output_type": "stream",
     "text": [
      "Hello-how-are-you?\n"
     ]
    }
   ],
   "source": [
    "str=\"Hello how are you?\"\n",
    "change =str.replace(\" \",\"-\")\n",
    "print(change)"
   ]
  },
  {
   "cell_type": "code",
   "execution_count": 81,
   "id": "695538ff-e562-4caf-b491-3fe94f234177",
   "metadata": {},
   "outputs": [],
   "source": [
    "# 14. Remove Leading & trailing spaces for the string \" messy text \". "
   ]
  },
  {
   "cell_type": "code",
   "execution_count": 85,
   "id": "b7de6638-9674-42ed-b18e-db66e5d0bdd5",
   "metadata": {},
   "outputs": [
    {
     "name": "stdout",
     "output_type": "stream",
     "text": [
      "messy text\n"
     ]
    }
   ],
   "source": [
    "str= \" messy text \"\n",
    "strip=str.strip()\n",
    "print(strip)"
   ]
  },
  {
   "cell_type": "code",
   "execution_count": 87,
   "id": "f3702f35-5fdb-4af6-b12c-502054120828",
   "metadata": {},
   "outputs": [],
   "source": [
    "# 15. Check if the string \"Hi there\" Strart with \"hi\""
   ]
  },
  {
   "cell_type": "code",
   "execution_count": 95,
   "id": "a62aff87-dab6-4574-83ab-25bc85695ce6",
   "metadata": {},
   "outputs": [
    {
     "name": "stdout",
     "output_type": "stream",
     "text": [
      "True\n"
     ]
    }
   ],
   "source": [
    "str= \"Hi There\"\n",
    "result=str.startswith(\"Hi\")\n",
    "print(result)\n"
   ]
  },
  {
   "cell_type": "code",
   "execution_count": 97,
   "id": "64e6d7a4-99dc-4f89-ae12-b8e980de4fd2",
   "metadata": {},
   "outputs": [],
   "source": [
    "# 16. Check if the string\"I am running\"end with \"ing\""
   ]
  },
  {
   "cell_type": "code",
   "execution_count": 101,
   "id": "972f5fcf-ec83-4fa4-aeba-ad2681e7d828",
   "metadata": {},
   "outputs": [
    {
     "name": "stdout",
     "output_type": "stream",
     "text": [
      "True\n"
     ]
    }
   ],
   "source": [
    "str= \"I am running\"\n",
    "result=str.endswith(\"ing\")\n",
    "print(result)"
   ]
  },
  {
   "cell_type": "code",
   "execution_count": 103,
   "id": "24486edc-d606-4ed1-a86f-da42994e1946",
   "metadata": {},
   "outputs": [],
   "source": [
    "# 17.Capitalize only the first letter of the sentence \"Welcome to the jungle\""
   ]
  },
  {
   "cell_type": "code",
   "execution_count": 117,
   "id": "52418ec4-7e90-4ed9-a7e1-b646be22336c",
   "metadata": {},
   "outputs": [
    {
     "name": "stdout",
     "output_type": "stream",
     "text": [
      "Welcome to the jungle\n"
     ]
    }
   ],
   "source": [
    "A= \"welcome to the jungle\"\n",
    "result=A.capitalize()\n",
    "print(result)"
   ]
  },
  {
   "cell_type": "code",
   "execution_count": 119,
   "id": "ba400a6f-084e-4b12-89f0-d88aa03870b4",
   "metadata": {},
   "outputs": [],
   "source": [
    "# 18. Join a list of words into a sentence.\n",
    "# [\"I\",\"coding\",\"coding\",]?"
   ]
  },
  {
   "cell_type": "code",
   "execution_count": 133,
   "id": "19d59739-89f4-4024-a541-af155af63797",
   "metadata": {},
   "outputs": [
    {
     "name": "stdout",
     "output_type": "stream",
     "text": [
      "I love coding\n"
     ]
    }
   ],
   "source": [
    "name= [\"I\",\"love\",\"coding\"]\n",
    "result=\" \".join(name)\n",
    "print(result)"
   ]
  },
  {
   "cell_type": "code",
   "execution_count": null,
   "id": "b5cd766c-fc15-4cb4-9555-05475eda2c1e",
   "metadata": {},
   "outputs": [],
   "source": [
    "# 19. Make a string \"Python is Fun\" lowercase and replace spaces with underscores"
   ]
  },
  {
   "cell_type": "code",
   "execution_count": 141,
   "id": "c22ecb57-08ac-4c54-ba0f-7326ca62e125",
   "metadata": {},
   "outputs": [
    {
     "name": "stdout",
     "output_type": "stream",
     "text": [
      "python is fun\n",
      "python_is_fun\n"
     ]
    }
   ],
   "source": [
    "str= \"Python Is Fun\"\n",
    "result= str.lower()\n",
    "print(result)\n",
    "R=result.replace(\" \",\"_\")\n",
    "print(R)"
   ]
  },
  {
   "cell_type": "code",
   "execution_count": 145,
   "id": "ffca5814-2dd7-4228-a04b-04c641ef58a4",
   "metadata": {},
   "outputs": [],
   "source": [
    "# 20. Reverse the word \"hello world pyhton\" into \"python world hello\"."
   ]
  },
  {
   "cell_type": "code",
   "execution_count": 147,
   "id": "988acb5e-3b75-4388-aebc-15f2dc98288a",
   "metadata": {},
   "outputs": [
    {
     "name": "stdout",
     "output_type": "stream",
     "text": [
      "python world hello\n"
     ]
    }
   ],
   "source": [
    "l=[\"hello\",\"world\",\"python\"]\n",
    "a=\" \".join(l[::-1])\n",
    "print(a)"
   ]
  },
  {
   "cell_type": "code",
   "execution_count": 149,
   "id": "2db8001a-3a58-427b-860f-2832f9cbace9",
   "metadata": {},
   "outputs": [],
   "source": [
    "# 21. Capitalize each word \"good moring world\"."
   ]
  },
  {
   "cell_type": "code",
   "execution_count": 151,
   "id": "f321a689-1c06-4265-8254-f31244211a98",
   "metadata": {},
   "outputs": [
    {
     "name": "stdout",
     "output_type": "stream",
     "text": [
      "GOOD MORNING WORLD\n"
     ]
    }
   ],
   "source": [
    "A=\"good morning world\"\n",
    "result=A.upper()\n",
    "print(result)"
   ]
  },
  {
   "cell_type": "code",
   "execution_count": 153,
   "id": "49503849-019c-4e3f-9cc2-dc5cb4da0ca7",
   "metadata": {},
   "outputs": [],
   "source": [
    "# 22. count of occurrence of word.\n",
    "#  --> input:- \"apple banana apple mango apple\"\n",
    "#  --> input:- \"apple\""
   ]
  },
  {
   "cell_type": "code",
   "execution_count": 161,
   "id": "28dbfa7a-6060-4ead-8400-6a40132fe7e7",
   "metadata": {},
   "outputs": [
    {
     "name": "stdout",
     "output_type": "stream",
     "text": [
      "3\n"
     ]
    }
   ],
   "source": [
    "Fruits=\"apple banana apple mango apple\"\n",
    "Result=Fruits.count(\"apple\")\n",
    "print(Result)"
   ]
  },
  {
   "cell_type": "code",
   "execution_count": 163,
   "id": "5423d215-1783-42fc-8e65-6e3cf2ad96ee",
   "metadata": {},
   "outputs": [],
   "source": [
    "# 23. check if string \"racecar\" start with endswith same letter.?"
   ]
  },
  {
   "cell_type": "code",
   "execution_count": 167,
   "id": "62b026f8-30e3-4720-9e5d-797e3b6633e3",
   "metadata": {},
   "outputs": [
    {
     "name": "stdout",
     "output_type": "stream",
     "text": [
      "True\n"
     ]
    }
   ],
   "source": [
    "a= \"racecar\"\n",
    "b=(a[0]==a[-1])\n",
    "print(b)"
   ]
  },
  {
   "cell_type": "code",
   "execution_count": 171,
   "id": "f177d039-3edf-495b-acca-8266542e60c1",
   "metadata": {},
   "outputs": [],
   "source": [
    "# 24. Extract only alphabets at even position.\n",
    "#  # --> \"aXbYcZd\""
   ]
  },
  {
   "cell_type": "code",
   "execution_count": 181,
   "id": "5862aa2c-4de0-4d20-b64e-6529b8841b03",
   "metadata": {},
   "outputs": [
    {
     "name": "stdout",
     "output_type": "stream",
     "text": [
      "abcd\n"
     ]
    }
   ],
   "source": [
    "str= \"aXbYcZd\"\n",
    "print(str[::2])"
   ]
  },
  {
   "cell_type": "code",
   "execution_count": 183,
   "id": "02f0f0a0-4ccd-462c-91bf-e82632b592ef",
   "metadata": {},
   "outputs": [],
   "source": [
    "# 26. Add # between each letter of the words\n",
    "# --> Tomorrow is holiday."
   ]
  },
  {
   "cell_type": "code",
   "execution_count": 187,
   "id": "7157664a-2894-44c7-9a89-87edd0fe655d",
   "metadata": {},
   "outputs": [
    {
     "name": "stdout",
     "output_type": "stream",
     "text": [
      "Tomorrow#is#holiday\n"
     ]
    }
   ],
   "source": [
    "A= \"Tomorrow is holiday\"\n",
    "result=A.replace(\" \",\"#\")\n",
    "print(result)"
   ]
  },
  {
   "cell_type": "code",
   "execution_count": 189,
   "id": "8b5c2fa9-0eb4-45d0-98e0-02ec116fad49",
   "metadata": {},
   "outputs": [],
   "source": [
    "# 27. remove everything excepts alphabet.\n",
    "# ---> he@llo!#wo$rld. "
   ]
  },
  {
   "cell_type": "code",
   "execution_count": 191,
   "id": "902332ca-e3c1-48b6-a189-96369cfad107",
   "metadata": {},
   "outputs": [],
   "source": [
    "# A=\"he@llo!#wo$rld\"\n",
    "# result=A.replace"
   ]
  },
  {
   "cell_type": "code",
   "execution_count": 193,
   "id": "efecc54f-ca44-41e4-8c2f-91d3533d03f9",
   "metadata": {},
   "outputs": [],
   "source": [
    "# 28. Find the index of the first occurence of \"s\"\n",
    "# --> mississippi"
   ]
  },
  {
   "cell_type": "code",
   "execution_count": 200,
   "id": "572325ff-413f-475c-97ef-95112d4f8ac6",
   "metadata": {},
   "outputs": [
    {
     "name": "stdout",
     "output_type": "stream",
     "text": [
      "2\n"
     ]
    }
   ],
   "source": [
    "A= \"mississippi\"\n",
    "result=A.index(\"s\")\n",
    "print(result)"
   ]
  },
  {
   "cell_type": "code",
   "execution_count": 202,
   "id": "83bb91ed-87f0-45e3-a4a5-1abe909fb0df",
   "metadata": {},
   "outputs": [],
   "source": [
    "# 29. Remove the word \"hello\" completely\n",
    "# ----> \"hello world hello\" "
   ]
  },
  {
   "cell_type": "code",
   "execution_count": 204,
   "id": "72174fe1-5ad8-455b-91f6-eb10ff9f1bde",
   "metadata": {},
   "outputs": [
    {
     "name": "stdout",
     "output_type": "stream",
     "text": [
      "  world  \n"
     ]
    }
   ],
   "source": [
    "a= \"hello world hello\"\n",
    "result=a.replace(\"hello\",\" \")\n",
    "print(result)"
   ]
  },
  {
   "cell_type": "code",
   "execution_count": 208,
   "id": "8ea0cd93-83f1-48ae-9b80-05b4fb6b2b15",
   "metadata": {},
   "outputs": [],
   "source": [
    "# 30.Make lovercases lattere uppercase and vice versa.\n",
    "# -----> \" Hello WeRld"
   ]
  },
  {
   "cell_type": "code",
   "execution_count": 212,
   "id": "087e42a7-d8ad-480a-9f13-def9a2bc1e1b",
   "metadata": {},
   "outputs": [
    {
     "name": "stdout",
     "output_type": "stream",
     "text": [
      "hELLO wErLD\n"
     ]
    }
   ],
   "source": [
    "s= \"Hello WeRld\"\n",
    "print(s.swapcase())"
   ]
  },
  {
   "cell_type": "code",
   "execution_count": null,
   "id": "1b4d2c23-39dd-4fce-aa7e-7236629b41c6",
   "metadata": {},
   "outputs": [],
   "source": []
  }
 ],
 "metadata": {
  "kernelspec": {
   "display_name": "Python [conda env:base] *",
   "language": "python",
   "name": "conda-base-py"
  },
  "language_info": {
   "codemirror_mode": {
    "name": "ipython",
    "version": 3
   },
   "file_extension": ".py",
   "mimetype": "text/x-python",
   "name": "python",
   "nbconvert_exporter": "python",
   "pygments_lexer": "ipython3",
   "version": "3.12.7"
  }
 },
 "nbformat": 4,
 "nbformat_minor": 5
}
