{
 "cells": [
  {
   "cell_type": "markdown",
   "id": "2f1c15a4-35fb-4d06-b775-2afce39a332d",
   "metadata": {},
   "source": [
    "# TUPLE"
   ]
  },
  {
   "cell_type": "code",
   "execution_count": 3,
   "id": "6ebc9bd4-e094-4c00-be8b-e5f7b805b913",
   "metadata": {},
   "outputs": [],
   "source": [
    "# 1. print the third element from a tuple. (10,20,30,40,50)"
   ]
  },
  {
   "cell_type": "code",
   "execution_count": 7,
   "id": "0e5ff800-454e-497d-a323-d8222d471d23",
   "metadata": {},
   "outputs": [
    {
     "name": "stdout",
     "output_type": "stream",
     "text": [
      "30\n"
     ]
    }
   ],
   "source": [
    "t= (10,20,30,40,50)\n",
    "print(t[2])"
   ]
  },
  {
   "cell_type": "code",
   "execution_count": 9,
   "id": "9371eeaf-1425-424b-a6c4-c7fc24415255",
   "metadata": {},
   "outputs": [],
   "source": [
    "# 2. Print the last three elements of tuple.\n",
    "# t= (5,10,15,20,25,30)"
   ]
  },
  {
   "cell_type": "code",
   "execution_count": 17,
   "id": "23e05358-4062-4005-9e8b-191c6d6e0f61",
   "metadata": {},
   "outputs": [
    {
     "name": "stdout",
     "output_type": "stream",
     "text": [
      "(20, 25, 30)\n"
     ]
    }
   ],
   "source": [
    "t= (5,10,15,20,25,30)\n",
    "print(t[3::])"
   ]
  },
  {
   "cell_type": "code",
   "execution_count": 19,
   "id": "11d05fd3-4f0b-43b3-ba8e-7a88e3ef176a",
   "metadata": {},
   "outputs": [],
   "source": [
    "# 3. Join two tuples together.\n",
    "# a=(1,2,3)\n",
    "# b=(4,5,6)\n"
   ]
  },
  {
   "cell_type": "code",
   "execution_count": 21,
   "id": "82c48acc-8862-4d4c-b26f-04b8b60b20f7",
   "metadata": {},
   "outputs": [
    {
     "name": "stdout",
     "output_type": "stream",
     "text": [
      "(1, 2, 3, 4, 5, 6)\n"
     ]
    }
   ],
   "source": [
    "a=(1,2,3)\n",
    "b=(4,5,6)\n",
    "print(a+b)"
   ]
  },
  {
   "cell_type": "code",
   "execution_count": 23,
   "id": "8e39ab2b-364c-4fde-a061-37318dfcf368",
   "metadata": {},
   "outputs": [],
   "source": [
    "# 4. Repeat a tuples three time.\n",
    "# t= (7,8)"
   ]
  },
  {
   "cell_type": "code",
   "execution_count": 25,
   "id": "2023e80a-643c-4684-bfd5-cfac3a439907",
   "metadata": {},
   "outputs": [
    {
     "name": "stdout",
     "output_type": "stream",
     "text": [
      "(7, 8, 7, 8, 7, 8)\n"
     ]
    }
   ],
   "source": [
    "t= (7,8)\n",
    "print(t*3)"
   ]
  },
  {
   "cell_type": "code",
   "execution_count": 27,
   "id": "3a5ef1a2-c3fe-41fe-8094-6e9bf0bbf37f",
   "metadata": {},
   "outputs": [],
   "source": [
    "# 5. check if 15 is present in the tuple.\n",
    "# t= (5,10,15,20,25,30)"
   ]
  },
  {
   "cell_type": "code",
   "execution_count": 47,
   "id": "3f8852f7-441f-4435-bbf0-7d9e8f7ba091",
   "metadata": {},
   "outputs": [
    {
     "name": "stdout",
     "output_type": "stream",
     "text": [
      "Yes 15 is present in the tuple\n"
     ]
    }
   ],
   "source": [
    "t= (5,10,15,20,25,30)\n",
    "if 15 in t:\n",
    "    print(\"Yes 15 is present in the tuple\")\n",
    "else:    \n",
    "    print(\"No 15 is not present in the tuple\")"
   ]
  },
  {
   "cell_type": "code",
   "execution_count": 49,
   "id": "670379b3-8959-48f5-a137-adcbb88cf49c",
   "metadata": {},
   "outputs": [],
   "source": [
    "# 6. Find how many elemnt are in the tuple\n",
    "# t=(1,2,3,4,5,6,7,8,9)"
   ]
  },
  {
   "cell_type": "code",
   "execution_count": 57,
   "id": "ddeec35c-cec7-4d1e-b2c8-f445e9f54d3c",
   "metadata": {},
   "outputs": [
    {
     "name": "stdout",
     "output_type": "stream",
     "text": [
      "9\n"
     ]
    }
   ],
   "source": [
    "t=(1,2,3,4,5,6,7,8,9)\n",
    "print(len(t))"
   ]
  },
  {
   "cell_type": "code",
   "execution_count": 61,
   "id": "02f8b83c-e446-432a-a3b7-54b9be6628a8",
   "metadata": {},
   "outputs": [],
   "source": [
    "# 7. Find the index of 50 in this tuple.\n",
    "# t= (10,20,30,40,50,60)"
   ]
  },
  {
   "cell_type": "code",
   "execution_count": 63,
   "id": "6e1d59e1-0efa-4cb5-8dfa-b0b6a54597fe",
   "metadata": {},
   "outputs": [
    {
     "name": "stdout",
     "output_type": "stream",
     "text": [
      "4\n"
     ]
    }
   ],
   "source": [
    "t= (10,20,30,40,50,60)\n",
    "print(t.index(50))"
   ]
  },
  {
   "cell_type": "code",
   "execution_count": 65,
   "id": "96dfe1a0-1523-4071-81d7-37cea101afd9",
   "metadata": {},
   "outputs": [],
   "source": [
    "# 8. count how many times 2 appear\n",
    "# t= (2,4,2,6,2,8) "
   ]
  },
  {
   "cell_type": "code",
   "execution_count": 71,
   "id": "4a8036e3-d20d-48fb-8718-10191c965d47",
   "metadata": {},
   "outputs": [
    {
     "name": "stdout",
     "output_type": "stream",
     "text": [
      "3\n"
     ]
    }
   ],
   "source": [
    "t= (2,4,2,6,2,8)\n",
    "print(t.count(2))"
   ]
  },
  {
   "cell_type": "code",
   "execution_count": 73,
   "id": "59aaad0f-5d82-4888-99cb-d4eda718ba31",
   "metadata": {},
   "outputs": [],
   "source": [
    "# 9. swap first and last element of tuple.\n",
    "# t=(1,2,3,4,5,6)"
   ]
  },
  {
   "cell_type": "code",
   "execution_count": 81,
   "id": "d15ac706-ad55-4962-a177-bc3a1e5028a9",
   "metadata": {},
   "outputs": [
    {
     "name": "stdout",
     "output_type": "stream",
     "text": [
      "(6, 2, 3, 4, 5, 1)\n"
     ]
    }
   ],
   "source": [
    "t = (1, 2, 3, 4, 5, 6)\n",
    "\n",
    "# Convert to list\n",
    "t = list(t)\n",
    "\n",
    "# Swap first and last\n",
    "t[0], t[-1] = t[-1], t[0]\n",
    "\n",
    "# Convert back to tuple\n",
    "t = tuple(t)\n",
    "\n",
    "print(t)\n"
   ]
  },
  {
   "cell_type": "code",
   "execution_count": 83,
   "id": "9d1b1231-ee0d-4cce-99e0-296828864185",
   "metadata": {},
   "outputs": [],
   "source": [
    "# 10. Reverse all element.\n",
    "# t= (10,20,30,40,50,60)"
   ]
  },
  {
   "cell_type": "code",
   "execution_count": 85,
   "id": "fe515aff-2b87-416d-aed7-e5d4ac5cfb45",
   "metadata": {},
   "outputs": [
    {
     "name": "stdout",
     "output_type": "stream",
     "text": [
      "(60, 50, 40, 30, 20, 10)\n"
     ]
    }
   ],
   "source": [
    "t= (10,20,30,40,50,60)\n",
    "print(t[::-1])"
   ]
  },
  {
   "cell_type": "code",
   "execution_count": 89,
   "id": "2e0efd87-abc1-443a-acf1-79a6c33892b2",
   "metadata": {},
   "outputs": [],
   "source": [
    "# 11. Find the max value without to a list.\n",
    "# t=(15,6,89,34)"
   ]
  },
  {
   "cell_type": "code",
   "execution_count": 97,
   "id": "7567f64a-3352-4da1-85a8-5190ff311536",
   "metadata": {},
   "outputs": [
    {
     "name": "stdout",
     "output_type": "stream",
     "text": [
      "89\n"
     ]
    }
   ],
   "source": [
    "t=(15,6,89,34)\n",
    "print(max(t))"
   ]
  },
  {
   "cell_type": "code",
   "execution_count": 99,
   "id": "68f3d2dd-ef71-404f-a29a-69263d032182",
   "metadata": {},
   "outputs": [],
   "source": [
    "# 12. Find the min value without to a list\n",
    "# t=(15,6,89,34)"
   ]
  },
  {
   "cell_type": "code",
   "execution_count": 103,
   "id": "58ceef18-cefa-4290-ba56-e4f66a92979d",
   "metadata": {},
   "outputs": [
    {
     "name": "stdout",
     "output_type": "stream",
     "text": [
      "6\n"
     ]
    }
   ],
   "source": [
    "t=(15,6,89,34)\n",
    "print(min(t))"
   ]
  },
  {
   "cell_type": "code",
   "execution_count": 105,
   "id": "d81f3871-0122-4968-b9ab-28b638660417",
   "metadata": {},
   "outputs": [],
   "source": [
    "# 13.Create a tuple with one element\n"
   ]
  },
  {
   "cell_type": "code",
   "execution_count": 107,
   "id": "cab84ac5-95f7-453e-9e5c-07ec658c7a27",
   "metadata": {},
   "outputs": [
    {
     "name": "stdout",
     "output_type": "stream",
     "text": [
      "<class 'tuple'>\n"
     ]
    }
   ],
   "source": [
    "t=(5,)\n",
    "print(type(t))\n"
   ]
  },
  {
   "cell_type": "code",
   "execution_count": 109,
   "id": "d8521154-190c-4384-85e6-ce7de60abc97",
   "metadata": {},
   "outputs": [],
   "source": [
    "# 14. Assign each element of tupple to different variable\n",
    "# t=(100,200,300)"
   ]
  },
  {
   "cell_type": "code",
   "execution_count": 113,
   "id": "0be83994-5741-4d05-a8b8-e161b3523b6a",
   "metadata": {},
   "outputs": [
    {
     "name": "stdout",
     "output_type": "stream",
     "text": [
      "(100, 200, 300)\n"
     ]
    }
   ],
   "source": [
    "t=(100,200,300)\n",
    "z= a,b,c\n",
    "print(z)"
   ]
  },
  {
   "cell_type": "code",
   "execution_count": 115,
   "id": "39c32b87-ea49-40b3-9539-a2771934225d",
   "metadata": {},
   "outputs": [],
   "source": [
    "# 15.Get every second element from the tupple.\n",
    "# t= (10,20,30,40,50,60)"
   ]
  },
  {
   "cell_type": "code",
   "execution_count": 125,
   "id": "5c3b7afd-641e-4fd9-a783-09d27c6b7f83",
   "metadata": {},
   "outputs": [
    {
     "name": "stdout",
     "output_type": "stream",
     "text": [
      "(20, 40, 60)\n"
     ]
    }
   ],
   "source": [
    "t= (10,20,30,40,50,60)\n",
    "print(t[1::2])"
   ]
  },
  {
   "cell_type": "code",
   "execution_count": 127,
   "id": "5210195d-89c4-47e0-9d4e-a70f811ced32",
   "metadata": {},
   "outputs": [],
   "source": [
    "# 16. Find the max and min element\n",
    "# input:(4,6,2,9,1)"
   ]
  },
  {
   "cell_type": "code",
   "execution_count": 129,
   "id": "228471f2-15dd-485d-8b3c-f2ca0b67269f",
   "metadata": {},
   "outputs": [
    {
     "name": "stdout",
     "output_type": "stream",
     "text": [
      "9\n",
      "1\n"
     ]
    }
   ],
   "source": [
    "t=(4,6,2,9,1)\n",
    "print(max(t))\n",
    "print(min(t))"
   ]
  },
  {
   "cell_type": "code",
   "execution_count": 131,
   "id": "98628088-c798-4940-bb86-3687fc68dc15",
   "metadata": {},
   "outputs": [],
   "source": [
    "# 17. Replace first element By 99 creating new tuple.\n",
    "# t=(9,8,7)\n"
   ]
  },
  {
   "cell_type": "code",
   "execution_count": 137,
   "id": "72fde7e5-a968-4c28-bf7f-d5290ab72228",
   "metadata": {},
   "outputs": [
    {
     "ename": "AttributeError",
     "evalue": "'tuple' object has no attribute 'replace'",
     "output_type": "error",
     "traceback": [
      "\u001b[0;31m---------------------------------------------------------------------------\u001b[0m",
      "\u001b[0;31mAttributeError\u001b[0m                            Traceback (most recent call last)",
      "Cell \u001b[0;32mIn[137], line 2\u001b[0m\n\u001b[1;32m      1\u001b[0m t\u001b[38;5;241m=\u001b[39m(\u001b[38;5;241m9\u001b[39m,\u001b[38;5;241m8\u001b[39m,\u001b[38;5;241m7\u001b[39m)\n\u001b[0;32m----> 2\u001b[0m \u001b[38;5;28mprint\u001b[39m(t\u001b[38;5;241m.\u001b[39mreplace(\u001b[38;5;124m\"\u001b[39m\u001b[38;5;124m9\u001b[39m\u001b[38;5;124m\"\u001b[39m,\u001b[38;5;124m\"\u001b[39m\u001b[38;5;124m99\u001b[39m\u001b[38;5;124m\"\u001b[39m))\n",
      "\u001b[0;31mAttributeError\u001b[0m: 'tuple' object has no attribute 'replace'"
     ]
    }
   ],
   "source": [
    "t=(9,8,7)\n",
    "print(t.replace())"
   ]
  },
  {
   "cell_type": "code",
   "execution_count": 139,
   "id": "10f5a98b-a648-4f07-afd5-790f173d9724",
   "metadata": {},
   "outputs": [],
   "source": [
    "# 18.Join two tuple a & b with a value x in between\n",
    "# a=1,2\n",
    "# b=4,5\n",
    "# c=9"
   ]
  },
  {
   "cell_type": "code",
   "execution_count": 151,
   "id": "fe7fd576-4849-4ce4-887e-7b60e5692240",
   "metadata": {},
   "outputs": [
    {
     "name": "stdout",
     "output_type": "stream",
     "text": [
      "(1, 2, 9, 4, 5)\n"
     ]
    }
   ],
   "source": [
    "a=(1,2)\n",
    "b=(4,5)\n",
    "c=(9,)\n",
    "\n",
    "result=a+c+b\n",
    "\n",
    "\n",
    "print(result)"
   ]
  },
  {
   "cell_type": "code",
   "execution_count": 153,
   "id": "53651725-a759-4962-869c-3ae767d72a96",
   "metadata": {},
   "outputs": [],
   "source": [
    "# 19. Find the index of 15 \n",
    "# t= (5,10,15,20,25,30)"
   ]
  },
  {
   "cell_type": "code",
   "execution_count": 155,
   "id": "0d565659-ce86-490b-b780-2d35a3aba031",
   "metadata": {},
   "outputs": [
    {
     "name": "stdout",
     "output_type": "stream",
     "text": [
      "2\n"
     ]
    }
   ],
   "source": [
    "t= (5,10,15,20,25,30)\n",
    "print(t.index(15))"
   ]
  },
  {
   "cell_type": "code",
   "execution_count": 157,
   "id": "65a25c44-01d3-47a7-b7b3-561008d8b955",
   "metadata": {},
   "outputs": [],
   "source": [
    "# 20.Count how many times 2 appears.\n",
    "# t= (1,3,5,7)"
   ]
  },
  {
   "cell_type": "code",
   "execution_count": 159,
   "id": "dbc6817a-7ca8-4340-bcf1-c3f120b57045",
   "metadata": {},
   "outputs": [
    {
     "name": "stdout",
     "output_type": "stream",
     "text": [
      "0\n"
     ]
    }
   ],
   "source": [
    "t= (1,3,5,7)\n",
    "print(t.count(2))"
   ]
  },
  {
   "cell_type": "code",
   "execution_count": 161,
   "id": "499dd9de-b046-4b08-a3a5-73dcc7d0e903",
   "metadata": {},
   "outputs": [],
   "source": [
    "# 21. Find index of 11 input (1,3,5,7,9,11,13,15,17)"
   ]
  },
  {
   "cell_type": "code",
   "execution_count": 163,
   "id": "c716a226-3922-4051-8a76-2bea53f1bfb5",
   "metadata": {},
   "outputs": [
    {
     "name": "stdout",
     "output_type": "stream",
     "text": [
      "5\n"
     ]
    }
   ],
   "source": [
    "t= (1,3,5,7,9,11,13,15,17)\n",
    "print(t.index(11))"
   ]
  },
  {
   "cell_type": "code",
   "execution_count": 167,
   "id": "33c75c6d-9d1c-4101-9e1b-881c93f3af67",
   "metadata": {},
   "outputs": [],
   "source": [
    "# 22.Access the no. 4, t=((1,2),(3,4))"
   ]
  },
  {
   "cell_type": "code",
   "execution_count": 172,
   "id": "179dfaca-ae80-4a4e-8a09-3d9a9ed45d47",
   "metadata": {},
   "outputs": [
    {
     "name": "stdout",
     "output_type": "stream",
     "text": [
      "4\n"
     ]
    }
   ],
   "source": [
    "t=((1,4),(3,4))\n",
    "print(t[1][1])"
   ]
  },
  {
   "cell_type": "code",
   "execution_count": 174,
   "id": "3a68b66b-0a80-4acf-a71c-351621d04804",
   "metadata": {},
   "outputs": [],
   "source": [
    "# 23. To a tuple of list add 99. input=(10,20,30,60)"
   ]
  },
  {
   "cell_type": "code",
   "execution_count": 2,
   "id": "f39a5860-8902-4032-bfb1-f494832bca17",
   "metadata": {},
   "outputs": [
    {
     "name": "stdout",
     "output_type": "stream",
     "text": [
      "[10, 20, 30, 60]\n",
      "[10, 20, 30, 60, 99]\n",
      "(10, 20, 30, 60, 99)\n"
     ]
    }
   ],
   "source": [
    "a=(10,20,30,60)\n",
    "b=list(a)\n",
    "print(b)\n",
    "b.append(99)\n",
    "print(b)\n",
    "print(tuple(b))"
   ]
  },
  {
   "cell_type": "code",
   "execution_count": 4,
   "id": "e692c311-a7a8-460b-8265-3b59eef60afe",
   "metadata": {},
   "outputs": [],
   "source": [
    "# 24. Access Char \"c\" From Tuple of string\n",
    "# t=([\"dog\",\"cat\"])"
   ]
  },
  {
   "cell_type": "code",
   "execution_count": 8,
   "id": "f36b1dfe-21a5-4259-97c4-daca82a2a4d8",
   "metadata": {},
   "outputs": [
    {
     "name": "stdout",
     "output_type": "stream",
     "text": [
      "c\n"
     ]
    }
   ],
   "source": [
    "t=([\"dog\",\"cat\"])\n",
    "print(t[1][0])"
   ]
  },
  {
   "cell_type": "code",
   "execution_count": 10,
   "id": "767f7ca1-07b7-47b6-8926-0f10ead3e5eb",
   "metadata": {},
   "outputs": [],
   "source": [
    "# 25. From((10,20,30,40,50,60)) to get (20,30,40)"
   ]
  },
  {
   "cell_type": "code",
   "execution_count": 22,
   "id": "58ee5c03-5dad-4ad3-a174-2aedb1623c57",
   "metadata": {},
   "outputs": [
    {
     "name": "stdout",
     "output_type": "stream",
     "text": [
      "To get = (20, 30, 40)\n"
     ]
    }
   ],
   "source": [
    "t= (10,20,30,40,50,60)\n",
    "print(\"To get =\",t[1:4])"
   ]
  },
  {
   "cell_type": "code",
   "execution_count": 24,
   "id": "196e60d0-f1be-4ec3-988a-f1994ab56c16",
   "metadata": {},
   "outputs": [],
   "source": [
    "# 26. Access last value 9 from the nested tuple ((5,6),(7,8,9))"
   ]
  },
  {
   "cell_type": "code",
   "execution_count": 30,
   "id": "e71dbe87-ddc2-444c-aa88-a6dd777bc3ef",
   "metadata": {},
   "outputs": [
    {
     "name": "stdout",
     "output_type": "stream",
     "text": [
      "9\n"
     ]
    }
   ],
   "source": [
    "t= ((5,6),(7,8,9))\n",
    "print(t[1][2])"
   ]
  },
  {
   "cell_type": "code",
   "execution_count": 32,
   "id": "ce8b602c-62a9-4b6d-b68a-7f3240f277a6",
   "metadata": {},
   "outputs": [],
   "source": [
    "# 27. sort element from the tupple (3,5,8,2,7,1,6,4)"
   ]
  },
  {
   "cell_type": "code",
   "execution_count": 64,
   "id": "57f7d062-896b-455f-856e-df4925964d77",
   "metadata": {},
   "outputs": [
    {
     "name": "stdout",
     "output_type": "stream",
     "text": [
      "[3, 5, 8, 2, 7, 1, 6, 4]\n",
      "(1, 2, 3, 4, 5, 6, 7, 8)\n"
     ]
    }
   ],
   "source": [
    "t=(3,5,8,2,7,1,6,4)\n",
    "l=list(t)\n",
    "print(l)\n",
    "l.sort()\n",
    "print(tuple(l))"
   ]
  },
  {
   "cell_type": "code",
   "execution_count": 66,
   "id": "f800b525-dcea-4d93-8f11-9f4c6dd13477",
   "metadata": {},
   "outputs": [],
   "source": [
    "# 28. reverse a tuple(10,20,60,30,90)"
   ]
  },
  {
   "cell_type": "code",
   "execution_count": 68,
   "id": "95bdb13c-ed1e-4420-b918-2914f30d4fdf",
   "metadata": {},
   "outputs": [
    {
     "name": "stdout",
     "output_type": "stream",
     "text": [
      "(90, 30, 60, 20, 10)\n"
     ]
    }
   ],
   "source": [
    "t=(10,20,60,30,90)\n",
    "print(t[::-1])"
   ]
  },
  {
   "cell_type": "code",
   "execution_count": 70,
   "id": "1f79a335-e956-454e-9fa0-6118d461b0f8",
   "metadata": {},
   "outputs": [],
   "source": [
    "# 29.Extract first 3 numbers from the tuple(1,2,3,4,5,6,7)"
   ]
  },
  {
   "cell_type": "code",
   "execution_count": 72,
   "id": "566acafe-3a31-4b33-922a-63d0511fcc80",
   "metadata": {},
   "outputs": [
    {
     "name": "stdout",
     "output_type": "stream",
     "text": [
      "(1, 2, 3)\n"
     ]
    }
   ],
   "source": [
    "t=(1,2,3,4,5,6,7)\n",
    "print(t[0:3])"
   ]
  },
  {
   "cell_type": "code",
   "execution_count": 74,
   "id": "05697316-9853-4784-8a2b-35cf5cb0d325",
   "metadata": {},
   "outputs": [],
   "source": [
    "# 30. Get third element from the tuple (10,20,30,50,60,70)\n"
   ]
  },
  {
   "cell_type": "code",
   "execution_count": 78,
   "id": "9e4d40e7-5c17-47b5-89b9-939c707dac10",
   "metadata": {},
   "outputs": [
    {
     "name": "stdout",
     "output_type": "stream",
     "text": [
      "30\n"
     ]
    }
   ],
   "source": [
    "t= (10,20,30,50,60,70)\n",
    "print(t[2])"
   ]
  },
  {
   "cell_type": "code",
   "execution_count": null,
   "id": "fdf7ecee-3764-4362-b656-1ed264127090",
   "metadata": {},
   "outputs": [],
   "source": []
  }
 ],
 "metadata": {
  "kernelspec": {
   "display_name": "Python [conda env:base] *",
   "language": "python",
   "name": "conda-base-py"
  },
  "language_info": {
   "codemirror_mode": {
    "name": "ipython",
    "version": 3
   },
   "file_extension": ".py",
   "mimetype": "text/x-python",
   "name": "python",
   "nbconvert_exporter": "python",
   "pygments_lexer": "ipython3",
   "version": "3.12.7"
  }
 },
 "nbformat": 4,
 "nbformat_minor": 5
}
